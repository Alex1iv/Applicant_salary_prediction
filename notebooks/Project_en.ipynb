{
  "cells": [
    {
      "attachments": {},
      "cell_type": "markdown",
      "id": "42289889-bd57-434e-9637-d3e354756316",
      "metadata": {},
      "source": [
        "<center> <img src = \"../figures/hh_label.jpg\" width=500, height=300>"
      ]
    },
    {
      "cell_type": "markdown",
      "id": "829cb75b-f14e-4ba8-9195-7ba929a7d656",
      "metadata": {
        "tags": []
      },
      "source": [
        "# <center> Job seeker's profile analysis form hh.ru\n",
        "\n",
        "Import all necessary libraries"
      ]
    },
    {
      "cell_type": "code",
      "execution_count": 1,
      "id": "dccfde33-2452-43fb-a8a5-5c6ebc02a71d",
      "metadata": {},
      "outputs": [],
      "source": [
        "import pandas as pd\n",
        "import numpy as np\n",
        "import plotly.express as px\n",
        "import plotly.graph_objects as go\n",
        "import matplotlib.pyplot as plt\n",
        "import seaborn as sns\n",
        "import os, re, sys\n",
        "\n",
        "from sklearn import linear_model\n",
        "from sklearn import metrics\n",
        "\n",
        "from sklearn.model_selection import train_test_split\n",
        "from sklearn import preprocessing\n",
        "\n",
        "#set path\n",
        "sys.path.insert(1, '../')\n",
        "from utils.reader_config import config_reader\n",
        "config = config_reader('../config/config.json')\n",
        "\n",
        "# fix random seed\n",
        "RANDOM_SEED = config.random_seed\n",
        "\n",
        "from utils.functions import education_level, get_gender,get_age, get_experience"
      ]
    },
    {
      "cell_type": "markdown",
      "id": "0dc6476b-7a00-44f1-ac93-6e3baed33a29",
      "metadata": {},
      "source": [
        "# Data structure study\n",
        "\n",
        "1) Let us import the dataset and explore the data structure."
      ]
    },
    {
      "cell_type": "code",
      "execution_count": null,
      "id": "783eaa17",
      "metadata": {},
      "outputs": [],
      "source": [
        "# import gdown # dowload moduld from google drive\n",
        "# url = \"https://drive.google.com/uc?id=1LpReiJ8hQJHbGBiv1Vsp2WDYdO2qaRtA\"\n",
        "# filename = \"dst-3.0_16_1_hh_database.zip\"\n",
        "# path = 'data/'\n",
        "# output = data_zip = os.path.join(path, filename)\n",
        "\n",
        "# # Создадим папку data, если такой папки нет\n",
        "# if not os.path.exists(\"data\"):\n",
        "#     os.mkdir(\"data\")\n",
        "\n",
        "# gdown.download(url, output=output, quiet=False)"
      ]
    },
    {
      "cell_type": "code",
      "execution_count": 2,
      "id": "bc39e68e-ed02-4ee2-9235-7258a2f867a8",
      "metadata": {},
      "outputs": [
        {
          "data": {
            "text/html": [
              "<div>\n",
              "<style scoped>\n",
              "    .dataframe tbody tr th:only-of-type {\n",
              "        vertical-align: middle;\n",
              "    }\n",
              "\n",
              "    .dataframe tbody tr th {\n",
              "        vertical-align: top;\n",
              "    }\n",
              "\n",
              "    .dataframe thead th {\n",
              "        text-align: right;\n",
              "    }\n",
              "</style>\n",
              "<table border=\"1\" class=\"dataframe\">\n",
              "  <thead>\n",
              "    <tr style=\"text-align: right;\">\n",
              "      <th></th>\n",
              "      <th>Пол, возраст</th>\n",
              "      <th>ЗП</th>\n",
              "      <th>Ищет работу на должность:</th>\n",
              "      <th>Город, переезд, командировки</th>\n",
              "      <th>Занятость</th>\n",
              "      <th>График</th>\n",
              "      <th>Опыт работы</th>\n",
              "      <th>Последнее/нынешнее место работы</th>\n",
              "      <th>Последняя/нынешняя должность</th>\n",
              "      <th>Образование и ВУЗ</th>\n",
              "      <th>Обновление резюме</th>\n",
              "      <th>Авто</th>\n",
              "    </tr>\n",
              "  </thead>\n",
              "  <tbody>\n",
              "    <tr>\n",
              "      <th>0</th>\n",
              "      <td>Мужчина ,  39 лет , родился 27 ноября 1979</td>\n",
              "      <td>29000 руб.</td>\n",
              "      <td>Системный администратор</td>\n",
              "      <td>Советск (Калининградская область) , не готов к...</td>\n",
              "      <td>частичная занятость, проектная работа, полная ...</td>\n",
              "      <td>гибкий график, полный день, сменный график, ва...</td>\n",
              "      <td>Опыт работы 16 лет 10 месяцев  Август 2010 — п...</td>\n",
              "      <td>МАОУ \"СОШ № 1 г.Немана\"</td>\n",
              "      <td>Системный администратор</td>\n",
              "      <td>Неоконченное высшее образование 2000  Балтийск...</td>\n",
              "      <td>16.04.2019 15:59</td>\n",
              "      <td>Имеется собственный автомобиль</td>\n",
              "    </tr>\n",
              "  </tbody>\n",
              "</table>\n",
              "</div>"
            ],
            "text/plain": [
              "                                 Пол, возраст          ЗП  \\\n",
              "0  Мужчина ,  39 лет , родился 27 ноября 1979  29000 руб.   \n",
              "\n",
              "  Ищет работу на должность:  \\\n",
              "0   Системный администратор   \n",
              "\n",
              "                        Город, переезд, командировки  \\\n",
              "0  Советск (Калининградская область) , не готов к...   \n",
              "\n",
              "                                           Занятость  \\\n",
              "0  частичная занятость, проектная работа, полная ...   \n",
              "\n",
              "                                              График  \\\n",
              "0  гибкий график, полный день, сменный график, ва...   \n",
              "\n",
              "                                         Опыт работы  \\\n",
              "0  Опыт работы 16 лет 10 месяцев  Август 2010 — п...   \n",
              "\n",
              "  Последнее/нынешнее место работы Последняя/нынешняя должность  \\\n",
              "0         МАОУ \"СОШ № 1 г.Немана\"      Системный администратор   \n",
              "\n",
              "                                   Образование и ВУЗ Обновление резюме  \\\n",
              "0  Неоконченное высшее образование 2000  Балтийск...  16.04.2019 15:59   \n",
              "\n",
              "                             Авто  \n",
              "0  Имеется собственный автомобиль  "
            ]
          },
          "metadata": {},
          "output_type": "display_data"
        },
        {
          "name": "stdout",
          "output_type": "stream",
          "text": [
            "DataFrame size shape: (44744, 12)\n"
          ]
        }
      ],
      "source": [
        "# read the dataset\n",
        "data = pd.read_csv('../data/dst-3.0_16_1_hh_database.zip', sep=';')\n",
        "\n",
        "# show two first and two last rows of the DataFrame\n",
        "display(data.head(1))\n",
        "\n",
        "# DataFrame size shape\n",
        "print(f\"DataFrame size shape: {data.shape}\")"
      ]
    },
    {
      "cell_type": "markdown",
      "id": "a2bfff1f-c975-4bf6-84be-2185d79dcb76",
      "metadata": {},
      "source": [
        "2) Let us show all the data frame features and non-null values"
      ]
    },
    {
      "cell_type": "code",
      "execution_count": 3,
      "id": "d286cf4c-707b-4cd2-9190-7ab3587d04a1",
      "metadata": {},
      "outputs": [
        {
          "name": "stdout",
          "output_type": "stream",
          "text": [
            "<class 'pandas.core.frame.DataFrame'>\n",
            "RangeIndex: 44744 entries, 0 to 44743\n",
            "Data columns (total 12 columns):\n",
            " #   Column                           Non-Null Count  Dtype \n",
            "---  ------                           --------------  ----- \n",
            " 0   Пол, возраст                     44744 non-null  object\n",
            " 1   ЗП                               44744 non-null  object\n",
            " 2   Ищет работу на должность:        44744 non-null  object\n",
            " 3   Город, переезд, командировки     44744 non-null  object\n",
            " 4   Занятость                        44744 non-null  object\n",
            " 5   График                           44744 non-null  object\n",
            " 6   Опыт работы                      44576 non-null  object\n",
            " 7   Последнее/нынешнее место работы  44743 non-null  object\n",
            " 8   Последняя/нынешняя должность     44742 non-null  object\n",
            " 9   Образование и ВУЗ                44744 non-null  object\n",
            " 10  Обновление резюме                44744 non-null  object\n",
            " 11  Авто                             44744 non-null  object\n",
            "dtypes: object(12)\n",
            "memory usage: 4.1+ MB\n"
          ]
        }
      ],
      "source": [
        "# Basic info\n",
        "data.info()"
      ]
    },
    {
      "cell_type": "markdown",
      "id": "9a8a2181-6914-448b-85f1-38f5f18b8a93",
      "metadata": {},
      "source": [
        "3) Let us display main statistical information from "
      ]
    },
    {
      "cell_type": "code",
      "execution_count": 4,
      "id": "be4e9bd3-a4db-4a20-82fb-6b02fc2957e0",
      "metadata": {},
      "outputs": [
        {
          "data": {
            "text/html": [
              "<div>\n",
              "<style scoped>\n",
              "    .dataframe tbody tr th:only-of-type {\n",
              "        vertical-align: middle;\n",
              "    }\n",
              "\n",
              "    .dataframe tbody tr th {\n",
              "        vertical-align: top;\n",
              "    }\n",
              "\n",
              "    .dataframe thead th {\n",
              "        text-align: right;\n",
              "    }\n",
              "</style>\n",
              "<table border=\"1\" class=\"dataframe\">\n",
              "  <thead>\n",
              "    <tr style=\"text-align: right;\">\n",
              "      <th></th>\n",
              "      <th>Пол, возраст</th>\n",
              "      <th>ЗП</th>\n",
              "      <th>Ищет работу на должность:</th>\n",
              "      <th>Город, переезд, командировки</th>\n",
              "      <th>Занятость</th>\n",
              "      <th>График</th>\n",
              "      <th>Опыт работы</th>\n",
              "      <th>Последнее/нынешнее место работы</th>\n",
              "      <th>Последняя/нынешняя должность</th>\n",
              "      <th>Образование и ВУЗ</th>\n",
              "      <th>Обновление резюме</th>\n",
              "      <th>Авто</th>\n",
              "    </tr>\n",
              "  </thead>\n",
              "  <tbody>\n",
              "    <tr>\n",
              "      <th>count</th>\n",
              "      <td>44744</td>\n",
              "      <td>44744</td>\n",
              "      <td>44744</td>\n",
              "      <td>44744</td>\n",
              "      <td>44744</td>\n",
              "      <td>44744</td>\n",
              "      <td>44576</td>\n",
              "      <td>44743</td>\n",
              "      <td>44742</td>\n",
              "      <td>44744</td>\n",
              "      <td>44744</td>\n",
              "      <td>44744</td>\n",
              "    </tr>\n",
              "    <tr>\n",
              "      <th>unique</th>\n",
              "      <td>16003</td>\n",
              "      <td>690</td>\n",
              "      <td>14929</td>\n",
              "      <td>10063</td>\n",
              "      <td>38</td>\n",
              "      <td>47</td>\n",
              "      <td>44413</td>\n",
              "      <td>30214</td>\n",
              "      <td>16927</td>\n",
              "      <td>40148</td>\n",
              "      <td>18838</td>\n",
              "      <td>2</td>\n",
              "    </tr>\n",
              "    <tr>\n",
              "      <th>top</th>\n",
              "      <td>Мужчина ,  32 года , родился 17 сентября 1986</td>\n",
              "      <td>50000 руб.</td>\n",
              "      <td>Системный администратор</td>\n",
              "      <td>Москва , не готов к переезду , не готов к кома...</td>\n",
              "      <td>полная занятость</td>\n",
              "      <td>полный день</td>\n",
              "      <td>Опыт работы 10 лет 8 месяцев  Апрель 2018 — по...</td>\n",
              "      <td>Индивидуальное предпринимательство / частная п...</td>\n",
              "      <td>Системный администратор</td>\n",
              "      <td>Высшее образование 1987 Военный инженерный Кра...</td>\n",
              "      <td>07.05.2019 09:50</td>\n",
              "      <td>Не указано</td>\n",
              "    </tr>\n",
              "    <tr>\n",
              "      <th>freq</th>\n",
              "      <td>18</td>\n",
              "      <td>4064</td>\n",
              "      <td>3099</td>\n",
              "      <td>1261</td>\n",
              "      <td>30026</td>\n",
              "      <td>22727</td>\n",
              "      <td>3</td>\n",
              "      <td>935</td>\n",
              "      <td>2062</td>\n",
              "      <td>4</td>\n",
              "      <td>25</td>\n",
              "      <td>32268</td>\n",
              "    </tr>\n",
              "  </tbody>\n",
              "</table>\n",
              "</div>"
            ],
            "text/plain": [
              "                                         Пол, возраст          ЗП  \\\n",
              "count                                           44744       44744   \n",
              "unique                                          16003         690   \n",
              "top     Мужчина ,  32 года , родился 17 сентября 1986  50000 руб.   \n",
              "freq                                               18        4064   \n",
              "\n",
              "       Ищет работу на должность:  \\\n",
              "count                      44744   \n",
              "unique                     14929   \n",
              "top      Системный администратор   \n",
              "freq                        3099   \n",
              "\n",
              "                             Город, переезд, командировки         Занятость  \\\n",
              "count                                               44744             44744   \n",
              "unique                                              10063                38   \n",
              "top     Москва , не готов к переезду , не готов к кома...  полная занятость   \n",
              "freq                                                 1261             30026   \n",
              "\n",
              "             График                                        Опыт работы  \\\n",
              "count         44744                                              44576   \n",
              "unique           47                                              44413   \n",
              "top     полный день  Опыт работы 10 лет 8 месяцев  Апрель 2018 — по...   \n",
              "freq          22727                                                  3   \n",
              "\n",
              "                          Последнее/нынешнее место работы  \\\n",
              "count                                               44743   \n",
              "unique                                              30214   \n",
              "top     Индивидуальное предпринимательство / частная п...   \n",
              "freq                                                  935   \n",
              "\n",
              "       Последняя/нынешняя должность  \\\n",
              "count                         44742   \n",
              "unique                        16927   \n",
              "top         Системный администратор   \n",
              "freq                           2062   \n",
              "\n",
              "                                        Образование и ВУЗ Обновление резюме  \\\n",
              "count                                               44744             44744   \n",
              "unique                                              40148             18838   \n",
              "top     Высшее образование 1987 Военный инженерный Кра...  07.05.2019 09:50   \n",
              "freq                                                    4                25   \n",
              "\n",
              "              Авто  \n",
              "count        44744  \n",
              "unique           2  \n",
              "top     Не указано  \n",
              "freq         32268  "
            ]
          },
          "execution_count": 4,
          "metadata": {},
          "output_type": "execute_result"
        }
      ],
      "source": [
        "data.describe()"
      ]
    },
    {
      "cell_type": "markdown",
      "id": "8d62a9f3-f64e-4fe7-bdac-c4dffa16155e",
      "metadata": {},
      "source": [
        "# Data transformation and structuring"
      ]
    },
    {
      "cell_type": "markdown",
      "id": "93053d3d-b284-481a-9cf7-012d7014c0e0",
      "metadata": {},
      "source": [
        "1) As it might be seen from the table above, the feature entitled  **\"Образование и ВУЗ\"** contains  user's information of three cathegories, namely: 1) level of education, 2)graduation year 3)university title. In order to simplify the information processing in future, let us split the feature information by separate cathegories respectively. Secondly, let us focus on the level of education, which is always described by three words in the beginning of the string. Finally, the rest (last two) features as well as \"Образование и ВУЗ\" shall be deleted."
      ]
    },
    {
      "cell_type": "code",
      "execution_count": 5,
      "id": "3f069da6-fdc9-4ae7-b514-fafe2675efd3",
      "metadata": {},
      "outputs": [
        {
          "data": {
            "text/plain": [
              "higher                    33871\n",
              "secondary_professional     5759\n",
              "higher_unfinished          4558\n",
              "secondary                   556\n",
              "Name: Education, dtype: int64"
            ]
          },
          "metadata": {},
          "output_type": "display_data"
        }
      ],
      "source": [
        "# Apply the function to the DataFrame\n",
        "data['Education'] = data['Образование и ВУЗ'].apply(education_level) \n",
        "\n",
        "# Show the results\n",
        "display(data['Education'].value_counts())  \n",
        "\n",
        "\n",
        "# delete the feature 'Образование и ВУЗ'\n",
        "data.drop(['Образование и ВУЗ'], axis=1, inplace=True)"
      ]
    },
    {
      "cell_type": "markdown",
      "id": "4266f0b6-1646-492a-88b4-2f6a46502135",
      "metadata": {},
      "source": [
        "2. The feature **\"Пол, возраст\"** also contains three cathegories of user's information: 1)gender 2)age 3)date of birth. Thus, let us pick features 'gender' and 'age and make a distinct colum for each of them. Notably, gender column should be either male or female e.g. 'm' or 'f' cathegories respectively. User age schould be represented by an integer number in years."
      ]
    },
    {
      "cell_type": "code",
      "execution_count": 6,
      "id": "0c44b350-72eb-4d65-8b54-a1fc449ba9fd",
      "metadata": {},
      "outputs": [
        {
          "name": "stdout",
          "output_type": "stream",
          "text": [
            "Women rate: 19.07 %\n",
            "User mean age: 32.2 yeaes\n"
          ]
        }
      ],
      "source": [
        "# Creation of a new feature 'Gender' \n",
        "data['Gender'] = data['Пол, возраст'].apply(get_gender)\n",
        "\n",
        "# Creation of a new feature 'Age'\n",
        "data['Age'] = data['Пол, возраст'].apply(get_age)\n",
        "\n",
        "# User genders rate\n",
        "print(f\"Women rate: {round(data['Gender'].value_counts(normalize=True).loc['F']*100,2)} %\")\n",
        "\n",
        "# Mean user age\n",
        "print(f\"User mean age: {round(data['Age'].mean(),1)} yeaes\")\n",
        "\n",
        "# Delete original feature \n",
        "data.drop(['Пол, возраст'], axis=1, inplace=True)"
      ]
    },
    {
      "cell_type": "markdown",
      "id": "635c4d5d-f323-4c66-b428-50a088120aa0",
      "metadata": {},
      "source": [
        "3. The feature  **\"Опыт работы\"** repersents User Experience is in the following format: <Опыт работы: **n** years **m** months…>. Let us transform its value in months and put it into a new feature 'User_experience'. The original feature \"Опыт работы\" will be deleted."
      ]
    },
    {
      "cell_type": "code",
      "execution_count": 238,
      "id": "603cdbe4-0ec3-4106-8eaf-c73fcdd29165",
      "metadata": {},
      "outputs": [
        {
          "name": "stdout",
          "output_type": "stream",
          "text": [
            "Mean user experience is: 100.0 months\n"
          ]
        }
      ],
      "source": [
        "       \n",
        "data[\"User_experience(months)\"] = data['Опыт работы'].apply(get_experience)\n",
        "\n",
        "# Deleting the original feature 'Опыт работы'\n",
        "data.drop(['Опыт работы'], axis=1, inplace=True)\n",
        "\n",
        "#display(data.head(1))\n",
        "\n",
        "print(f\"Mean user experience is: {data['User_experience(months)'].median()} months\")"
      ]
    },
    {
      "cell_type": "markdown",
      "id": "f3fdaec9-5fd3-4260-9cf5-1d7406b628a5",
      "metadata": {},
      "source": [
        "4. The feature  **\"Город, переезд, командировки\"** contains 3 cathegories of information: 1)city, 2)relocation willingness 3)business trip readiness. The cathegories are separated by comma and are always in oreder explained above.\n",
        "Let us transfer information into new separate features. As for cities, let us add cathegorization by population: 1)Moscow 2)Petersburg 3)Megapolis 4)other. The list of megapolis cities is shown below:\n",
        "    \n",
        "<code><font size = '3'>million_cities = ['Новосибирск', 'Екатеринбург','Нижний Новгород', 'Казань', \\\n",
        "'Челябинск','Омск', 'Самара', 'Ростов-на-Дону', 'Уфа', 'Красноярск', \\\n",
        "'Пермь', 'Воронеж','Волгоград']\n",
        "</code>\n",
        "\n",
        "Other two features: relocation willingness and business trip readiness should contain either True or False inputs. At last, let us delete the original feature \"Город, переезд, командировки\"."
      ]
    },
    {
      "cell_type": "code",
      "execution_count": 239,
      "id": "1ea710ec-871b-431e-9462-c7d0fd87011b",
      "metadata": {},
      "outputs": [
        {
          "name": "stdout",
          "output_type": "stream",
          "text": [
            "Users living in Petersburg share: 11 %\n",
            "Users ready for business trips and relocation share: 32 %\n"
          ]
        }
      ],
      "source": [
        "def get_city(arg):\n",
        "    \"\"\"\n",
        "   The get_city function return 1 of 4 cathegories of city: 1)Moscow 2)Petersburg 3)Megapolis 4)other. \n",
        "   The function argument is a first word of the feature 'Город, переезд, командировки'.\n",
        "    \"\"\"\n",
        "    arg = arg.split(' ') # Method divides the string by spaces\n",
        "\n",
        "    # The list of megapolis cities\n",
        "    million_cities = ['Новосибирск', 'Екатеринбург','Нижний Новгород','Казань', \\\n",
        "        'Челябинск','Омск', 'Самара', 'Ростов-на-Дону', 'Уфа', 'Красноярск', \\\n",
        "        'Пермь', 'Воронеж','Волгоград']\n",
        "\n",
        "    if arg[0] == 'Москва':\n",
        "        return 'Moscow'\n",
        "    elif arg[0] == 'Санкт-Петербург':\n",
        "        return 'Petersburg'\n",
        "    elif arg[0] in million_cities:\n",
        "        return 'megapolis'\n",
        "    else:\n",
        "        return 'other'\n",
        "\n",
        "# City cathegorization using the function 'get_city'\n",
        "data['City'] = data['Город, переезд, командировки'].apply(get_city)\n",
        "\n",
        "# Definition of relocation willingness\n",
        "def get_relocation(arg):\n",
        "    \"\"\"\n",
        "    The get_relocation function returns relocation willingness (True/False). The function argument is the feature string 'Город, переезд, командировки'.\n",
        "    \"\"\"\n",
        "    if ('не готов к переезду' in arg) or ('не готова к переезду' in arg): # not ready\n",
        "        return False \n",
        "    elif 'хочу переехать' in arg: # ready\n",
        "        return True\n",
        "    else: return True\n",
        "\n",
        "# relocation willingness using the function 'get_relocation'    \n",
        "data['Relocation'] = data['Город, переезд, командировки'].apply(get_relocation)\n",
        "\n",
        "\n",
        "def get_bisiness_trips(arg):\n",
        "    \"\"\"\n",
        "    The get_bisiness_trips function retuens business trip readiness (True/False). The function argument is the feature string 'Город, переезд, командировки'.\n",
        "    \"\"\"\n",
        "    if ('командировка' in arg):\n",
        "        if ('не готов к командировкам' in arg) or('не готова к командировкам' in arg): # not ready\n",
        "            return False\n",
        "        else: \n",
        "            \n",
        "            return True\n",
        "    else:               # ready\n",
        "        return False\n",
        "\n",
        "data['Business_trip'] = data['Город, переезд, командировки'].apply(get_bisiness_trips)\n",
        "\n",
        "# Share of users living in Petersburg\n",
        "print(f\"Users living in Petersburg share: {round(data[data['City']=='Petersburg']['City'].count()/data['City'].shape[0]*100)} %\")\n",
        "\n",
        "# Share of Users ready for business trips and relocation\n",
        "print(f\"Users ready for business trips and relocation share: {round(data[(data['Relocation']==True) & (data['Business_trip']==True)].shape[0]/data.shape[0]*100)} %\")\n",
        "\n",
        "# Delete the original feature 'Город, переезд, командировки'\n",
        "data.drop(['Город, переезд, командировки'], axis=1, inplace=True)\n",
        "#display(data.head(1))"
      ]
    },
    {
      "cell_type": "markdown",
      "id": "0136ffee-0ead-4a6b-b608-61d1c753a438",
      "metadata": {},
      "source": [
        "5. The feature **\"Занятость\"** (employment type) has 5 cathegories: full time, part time, project,  volunteering, internship.  The feature  **\"График\"** (schedule) contains 6 cathegories: full_time, part_time,  flexible, remote, daily_shifts, long_shifts. Let us create separate features for each cathegory which will indicate either True or False. At last, let us delete original features \"Занятость\" and \"График\"."
      ]
    },
    {
      "cell_type": "code",
      "execution_count": 240,
      "id": "5b3a8e79-f7ab-4008-b767-12aea3a205ea",
      "metadata": {},
      "outputs": [
        {
          "name": "stdout",
          "output_type": "stream",
          "text": [
            "Users ready for voluntering and project work: 436\n",
            "Users who want to work in long shifts and flexible schedule: 2311\n"
          ]
        }
      ],
      "source": [
        "# Features for employment type: full time, part time, project,  volunteering, internship.\n",
        "employment_types = ['полная занятость', 'частичная занятость', 'проектная работа', 'волонтерство', 'стажировка']\n",
        "\n",
        "for i in employment_types:\n",
        "    data[i] = data['Занятость'].apply(lambda x: True if i in x else False)\n",
        "\n",
        "data = data.rename(columns={\n",
        "    'полная занятость':'full_time', \n",
        "    'частичная занятость':'part_time',\n",
        "    'проектная работа':'project',\n",
        "    'стажировка':'internship',\n",
        "    'волонтерство':'volunteering'\n",
        "})\n",
        "\n",
        "# Features for schedule types: full_time, flexible, remote, daily_shifts, long_shifts.\n",
        "schedule =  ['полный день', 'гибкий график', 'удаленная работа', 'сменный график', 'вахтовый метод']\n",
        "\n",
        "# Features for schedule\n",
        "for j in schedule:\n",
        "    data[j] = data['График'].apply(lambda x: True if j in x else False)\n",
        "\n",
        "data = data.rename(columns={\n",
        "    'полный день':'full_time',     \n",
        "    'гибкий график': 'flexible',\n",
        "    'удаленная работа':'remote',   \n",
        "    'сменный график': 'daily_shifts',\n",
        "    'вахтовый метод':'long_shifts' \n",
        "})\n",
        "\n",
        "# Users ready for voluntering and project work\n",
        "print(f\"Users ready for voluntering and project work: {data[(data['project']==True) & (data['volunteering']==True)].shape[0]}\")\n",
        "\n",
        "# Users who want to work in long shifts and flexible schedule\n",
        "print(f\"Users who want to work in long shifts and flexible schedule: {data[(data['long_shifts']==True) & (data['flexible']==True)].shape[0]}\")\n",
        "\n",
        "# Delete original features\n",
        "data.drop(['Занятость', 'График' ], axis=1, inplace=True)"
      ]
    },
    {
      "cell_type": "markdown",
      "id": "344f123c-b63b-43dd-a8a4-809c1f1bb443",
      "metadata": {},
      "source": [
        "6. The most important feature for our prediction is **\"ЗП\"** (salary). By salary whre and latter on we will imply only monthly salary. Since users inputed salary expectations in their national currencies, the values should be recalculated in rubles. It should be also taking into account currency rates which is stored in the file exchangeRates.csv. In addition, it should take into account the feature **\"Обновление резюме\"** - the date when user updated his cv. At last, the original features should be vanished"
      ]
    },
    {
      "cell_type": "code",
      "execution_count": 241,
      "id": "e91f87ed-e25c-4f96-9f92-b642e8c0b4fa",
      "metadata": {},
      "outputs": [
        {
          "data": {
            "text/html": [
              "<div>\n",
              "<style scoped>\n",
              "    .dataframe tbody tr th:only-of-type {\n",
              "        vertical-align: middle;\n",
              "    }\n",
              "\n",
              "    .dataframe tbody tr th {\n",
              "        vertical-align: top;\n",
              "    }\n",
              "\n",
              "    .dataframe thead th {\n",
              "        text-align: right;\n",
              "    }\n",
              "</style>\n",
              "<table border=\"1\" class=\"dataframe\">\n",
              "  <thead>\n",
              "    <tr style=\"text-align: right;\">\n",
              "      <th></th>\n",
              "      <th>currency</th>\n",
              "      <th>per</th>\n",
              "      <th>date</th>\n",
              "      <th>time</th>\n",
              "      <th>close</th>\n",
              "      <th>vol</th>\n",
              "      <th>proportion</th>\n",
              "    </tr>\n",
              "  </thead>\n",
              "  <tbody>\n",
              "    <tr>\n",
              "      <th>0</th>\n",
              "      <td>USD</td>\n",
              "      <td>D</td>\n",
              "      <td>2017-12-29</td>\n",
              "      <td>00:00</td>\n",
              "      <td>57.6291</td>\n",
              "      <td>0</td>\n",
              "      <td>1</td>\n",
              "    </tr>\n",
              "  </tbody>\n",
              "</table>\n",
              "</div>"
            ],
            "text/plain": [
              "  currency per        date   time    close  vol  proportion\n",
              "0      USD   D  2017-12-29  00:00  57.6291    0           1"
            ]
          },
          "metadata": {},
          "output_type": "display_data"
        },
        {
          "name": "stdout",
          "output_type": "stream",
          "text": [
            "Median salary expectation: 59000.0 rub.\n"
          ]
        }
      ],
      "source": [
        "# Change feature «Обновление резюме» format to datetime.\n",
        "data['date'] = pd.to_datetime(data['Обновление резюме'], dayfirst=False).dt.date\n",
        "\n",
        "# Definition of currency\n",
        "def get_currency_in_ISO_format(arg):\n",
        "    arg_splitted = arg.split(' ')[1].replace('.',\"\") #\n",
        "    \n",
        "    #  international currecy codes\n",
        "    currencies_in_ISO_dict = {\n",
        "        'грн':'UAH', \n",
        "        'USD':'USD', \n",
        "        'EUR':'EUR', \n",
        "        'белруб':'BYN', \n",
        "        'KGS':'KGS', \n",
        "        'сум':'UZS', \n",
        "        'AZN':'AZN', \n",
        "        'KZT':'KZT'\n",
        "    }\n",
        "    \n",
        "    if arg_splitted == 'руб':\n",
        "        return 'RUB'\n",
        "    else:\n",
        "        return currencies_in_ISO_dict[arg_splitted]\n",
        "\n",
        "# Creation of a new features: 'currency' and 'salary_national' (for salary expectations in national currencies) \n",
        "data['currency'] =  data['ЗП'].apply(get_currency_in_ISO_format)\n",
        "data['salary_national'] = data['ЗП'].apply(lambda x: x.split(' ')[0]).astype('int64')\n",
        "\n",
        "# Reading the currency base\n",
        "Exchange_Rates = pd.read_csv('../data/ExchangeRates.zip')\n",
        "\"\"\"\n",
        "currency — short currency name in ISO;\n",
        "date - date of currency trading;\n",
        "proportion — currency rate;\n",
        "close — price on closure.\n",
        "\"\"\"\n",
        "# change date format to datetime \n",
        "Exchange_Rates['date'] = pd.to_datetime(Exchange_Rates['date'], dayfirst=True).dt.date\n",
        "\n",
        "display(Exchange_Rates.head(1))\n",
        "\n",
        "# merging of database 'date' and columns of 'Exchange_Rates':'currency', 'date', 'close', 'proportion'\n",
        "data_merged = data.merge(\n",
        "    Exchange_Rates[['currency', 'date', 'close', 'proportion']], \n",
        "    left_on=['date','currency'], \n",
        "    right_on=['date','currency'], \n",
        "    how='left'\n",
        ")\n",
        "\n",
        "# Filling ruble to ruble rate as 1.\n",
        "data_merged['close'] = data_merged['close'].fillna(1)\n",
        "data_merged['proportion'] = data_merged['proportion'].fillna(1)\n",
        "\n",
        "# Calculation of salary in rubles\n",
        "data_merged['salary(rub)'] = data_merged['salary_national'] * data_merged['close'] / data_merged['proportion']\n",
        "\n",
        "# Median salary expectation\n",
        "print(f\"Median salary expectation: {round(data_merged['salary(rub)'].median(), 3)} rub.\")\n",
        "\n",
        "# Delete original features 'ЗП_сумма', 'ЗП', 'currency', 'Обновление резюме', 'close', 'proportion'\n",
        "data_merged.drop(['salary_national', 'ЗП', 'currency', 'Обновление резюме', 'close', 'proportion'], axis=1, inplace=True)"
      ]
    },
    {
      "cell_type": "markdown",
      "id": "7ea20ab6-04a7-40a0-adec-443a0e5a42c3",
      "metadata": {},
      "source": [
        "# Feature interrelation study"
      ]
    },
    {
      "cell_type": "markdown",
      "id": "968aed80-74ef-4ffb-b5bf-c65b84e9caea",
      "metadata": {},
      "source": [
        "**1. Let us study user age**"
      ]
    },
    {
      "cell_type": "code",
      "execution_count": 242,
      "id": "f2d62796-d400-4ec1-a675-88112739a50e",
      "metadata": {},
      "outputs": [
        {
          "name": "stdout",
          "output_type": "stream",
          "text": [
            "Modal age value: 30 years\n",
            "Maximal user experience age: 1188 months\n"
          ]
        }
      ],
      "source": [
        "# Box diagram\n",
        "fig_1 = px.histogram(\n",
        "    data_frame=data_merged, \n",
        "    x='Age',\n",
        "    opacity=0.5,  \n",
        "    marginal='box'\n",
        "    )\n",
        "\n",
        "fig_1.update_layout(\n",
        "    title=dict(text='Fig.1 - User age distribution', x=.5, y=.01, xanchor='center', yanchor='bottom'),\n",
        "    xaxis_title_text = 'Age, years',\n",
        "    yaxis_title_text = 'Users number',\n",
        "    width=800, height=400,\n",
        "    margin=dict(l=100, r=60, t=80, b=70),\n",
        "    showlegend=False # hide legend\n",
        ")\n",
        "\n",
        "#fig_1.show()\n",
        "\n",
        "# Save figures in a folder\n",
        "if not os.path.exists(\"figures_en\"):\n",
        "    os.mkdir(\"figures_en\")\n",
        "\n",
        "fig_1.write_image('../figures/fig_1.png', engine=\"kaleido\")\n",
        "\n",
        "print(f\"Modal age value: {data_merged['Age'].mode()[0]} years\")\n",
        "print(f\"Maximal user experience age: {round(data_merged['User_experience(months)'].max())} months\")"
      ]
    },
    {
      "attachments": {},
      "cell_type": "markdown",
      "id": "122a07fa",
      "metadata": {},
      "source": [
        "<center> <img src = \"../figures/fig_1.png\" >"
      ]
    },
    {
      "cell_type": "markdown",
      "id": "88967466-5070-4bea-9e71-b3efefdc6e4a",
      "metadata": {},
      "source": [
        "As it can be seen from the fig.1, the distribution schape is close to log-normal, positive or left-skew with peak around 30 years. The age set contains min=14 years and max= 100 years. The age of users majority is between 27 and 36 years.\n",
        "\n",
        "Analysing the distribution, it can be inferred:\n",
        "- maximal user age is 100 years which is obviously an outlier;\n",
        "- minimal user age is 14 years. Meanwhile according to the current law, people below 16 years are not allowed to work. Thus, that is also an outlier;\n",
        "- it is widely known that employers are usually reluctant to hire candidates younger than 18 and older than 75 years. Therefore, the rest user ages should be checked manually whether they are valid or not."
      ]
    },
    {
      "cell_type": "markdown",
      "id": "68377cfc-b378-43dc-ab7d-1195abf2c515",
      "metadata": {},
      "source": [
        "**2. Let us study user experience**"
      ]
    },
    {
      "cell_type": "code",
      "execution_count": 243,
      "id": "dd7df27a-e3e8-412e-a21a-5d389b71e891",
      "metadata": {},
      "outputs": [
        {
          "name": "stdout",
          "output_type": "stream",
          "text": [
            "User experience mode value: 81.0 month\n"
          ]
        },
        {
          "data": {
            "text/plain": [
              "count    44574.000000\n",
              "mean       114.418944\n",
              "std         79.047861\n",
              "min          1.000000\n",
              "25%         57.000000\n",
              "50%        100.000000\n",
              "75%        154.000000\n",
              "max       1188.000000\n",
              "Name: User_experience(months), dtype: float64"
            ]
          },
          "metadata": {},
          "output_type": "display_data"
        }
      ],
      "source": [
        "# Draw a boxplot diagram from data_merged:\n",
        "fig = px.histogram(\n",
        "    data_frame=data_merged, \n",
        "    x='User_experience(months)',\n",
        "    opacity=0.5, # непрозрачность,\n",
        "    marginal='box'\n",
        ")\n",
        "\n",
        "# layout setup\n",
        "fig.update_layout(\n",
        "    title=dict(text='Fig.2 - User experience distribution', x=.5, y=0.01, xanchor='center'),\n",
        "    xaxis_title_text = 'User experience, months',\n",
        "    yaxis_title_text = 'Users',\n",
        "    width=800, height=400,\n",
        "    margin=dict(l=100, r=60, t=80, b=70)\n",
        ")\n",
        "\n",
        "#fig.show();\n",
        "fig.write_image('../figures/fig_2.png')\n",
        "\n",
        "print(f\"User experience mode value: {data_merged['User_experience(months)'].mode()[0]} month\")\n",
        "display(data_merged['User_experience(months)'].describe())"
      ]
    },
    {
      "attachments": {},
      "cell_type": "markdown",
      "id": "20e52599",
      "metadata": {},
      "source": [
        "<center> <img src = \"../figures/fig_2.png\">"
      ]
    },
    {
      "cell_type": "markdown",
      "id": "7305c34b-089d-4986-be9f-5fa1c0ee281c",
      "metadata": {},
      "source": [
        "**Results**\n",
        "\n",
        "The user experience distribution schape is close to log-normal, positive or left-skew with peak around 100 months(median).  Modal experience value of 81 months is the most repeating value in the set that with minimum 1 and maximum 1188 monts. Since some users have remarkably large experience, the graph has long right tail so the mean of 114.4 +/- 79 months is higher the median. In addition, these values even are considered as outliers on the box plot chart above.\n",
        "\n",
        "Applying heuristic approach, one can addmit:\n",
        "* maximal user experience of 1188 months which is 99 years is obviously an outlier. It is likely entered by a mistake since this user age must exceed his experience;\n",
        "* user experience over 600 looks also suspicious and should be verified manually;\n",
        "* the minimum of the set will be out of consideration since form author's experience employers are interested in more experience candidates."
      ]
    },
    {
      "cell_type": "markdown",
      "id": "f2fe0acb-ab1a-4e15-9326-2560e22d73c1",
      "metadata": {},
      "source": [
        "**3. Let us study candidates' monthly salary expectations.**"
      ]
    },
    {
      "cell_type": "code",
      "execution_count": 244,
      "id": "6271f8ad-bd2e-4196-ae4a-5b39c4c1010e",
      "metadata": {},
      "outputs": [
        {
          "name": "stdout",
          "output_type": "stream",
          "text": [
            "Number of users with salary expectations over 1 million rubles: 5 people\n",
            "Salary expectations mode value: 50000.0 rubles.\n"
          ]
        },
        {
          "data": {
            "text/plain": [
              "count       44744.00000\n",
              "mean        76521.45653\n",
              "std        135920.33086\n",
              "min             1.00000\n",
              "25%         37082.20000\n",
              "50%         59000.00000\n",
              "75%         95000.00000\n",
              "max      24304876.00000\n",
              "Name: salary(rub), dtype: object"
            ]
          },
          "metadata": {},
          "output_type": "display_data"
        }
      ],
      "source": [
        "# creation of a diagram\n",
        "fig = px.histogram(\n",
        "    data_frame=data_merged, \n",
        "    x='salary(rub)',\n",
        "    opacity=0.5, \n",
        "    marginal='box'\n",
        ")\n",
        "\n",
        "# layout setup\n",
        "fig.update_layout(\n",
        "    title=dict(text='Fig.3 - Salary expectations of candidates', x=.5, y=0.01, xanchor='center'),\n",
        "    xaxis_title_text = 'Salay, rubles',\n",
        "    yaxis_title_text = 'Users',\n",
        "    yaxis_type='log',\n",
        "    width=800, height=400,\n",
        "    margin=dict(l=100, r=60, t=80, b=70),\n",
        ")\n",
        "\n",
        "#fig.show();\n",
        "fig.write_image('../figures/fig_3.png')\n",
        "\n",
        "print(f\"Number of users with salary expectations over 1 million rubles: {data_merged[data_merged['salary(rub)']>1e6]['salary(rub)'].count()} people\")\n",
        "print(f\"Salary expectations mode value: {data_merged['salary(rub)'].mode()[0]} rubles.\")\n",
        "display(data_merged['salary(rub)'].describe().apply(\"{0:.5f}\".format))"
      ]
    },
    {
      "attachments": {},
      "cell_type": "markdown",
      "id": "25d6fc75",
      "metadata": {},
      "source": [
        "<center> <img src = \"../figures/fig_3.png\">"
      ]
    },
    {
      "cell_type": "markdown",
      "id": "6c39ca13-225e-48f7-a85c-ab07a6cc852a",
      "metadata": {},
      "source": [
        "**Results**\n",
        "\n",
        "The salary expectations distribution schape is positive, left-skewed but rather stratched than is close to log-normal. Such figure shape is observed because some user have outstanding salary expectations reaching almost 25 millions rubles. The set contains positive numbers from 1  to 24,304,876 rubles. \n",
        "Meanwhile, the median salalry is 59,000 rubles that generally represent average salary level in regions. In addition, most users round their salaries to an integer and, therefore, it is easy to group them for further analysis.\n",
        "\n",
        "Applying heuristic approach, one can addmit:\n",
        "* salary lower than 14,000 rubles is lower than minimum wage so that should be elliminated;\n",
        "* users with salary expectations higher than 500,000 are not in common since they might have some unique competence. These specialist could be known by the market; the quantity of them is quite limited and, therefore, they could be considered as ooutliers."
      ]
    },
    {
      "cell_type": "markdown",
      "id": "eab2206d-d95b-468b-8e5f-34381abf0ce7",
      "metadata": {},
      "source": [
        "**4. Let us study how salary expectations depend on user education**\n",
        "\n",
        "*For better estimation, we will consider salaries below 1 million rubles.*"
      ]
    },
    {
      "cell_type": "code",
      "execution_count": 245,
      "id": "80defb23-bfb1-4a18-8be6-bf36aa7165d5",
      "metadata": {},
      "outputs": [],
      "source": [
        "# Filter salaries below 1 mln. rubles\n",
        "below_million_mask = data_merged['salary(rub)'] < 1e6\n",
        "\n",
        "# Bar diagram\n",
        "fig = px.bar(\n",
        "    data_frame=data_merged[below_million_mask].groupby('Education', as_index=False).median(numeric_only=True), \n",
        "    x='Education',\n",
        "    y='salary(rub)',\n",
        "    opacity=0.5\n",
        ")\n",
        "\n",
        "# Layout setup\n",
        "fig.update_layout(\n",
        "    title=dict(text='Fig.4 - Salary expectations distribution <br> by user education', x=.5, y=0.01, xanchor='center'),\n",
        "    xaxis_title_text = 'Education level',\n",
        "    yaxis_title_text = 'Salary, rubles',\n",
        "    width=800, height=400,\n",
        "    margin=dict(l=100, r=60, t=80, b=70),\n",
        ")\n",
        "\n",
        "#fig.show()\n",
        "fig.write_image('../figures/fig_4.png')"
      ]
    },
    {
      "attachments": {},
      "cell_type": "markdown",
      "id": "9032377d",
      "metadata": {},
      "source": [
        "<center> <img src = \"../figures/fig_4.png\">"
      ]
    },
    {
      "cell_type": "markdown",
      "id": "dc463319-3f85-47dd-b66e-aecb0be0c76f",
      "metadata": {},
      "source": [
        "**Results**\n",
        "\n",
        "The bar diagram on the fig.4 represents median salaries expectetions of users by levels of their education. As it might be seen from the graph, salary expectations rises in direct ratio with the level of eduacation. Thus, users having secondary education demand median salary of 40,000 rubles; those with higher education ask more - 60,000 rubles."
      ]
    },
    {
      "cell_type": "markdown",
      "id": "0112af31-f6b0-4e3b-82ab-71296e752e5e",
      "metadata": {},
      "source": [
        "**5. Let us study how salary expectations depend on city.**\n",
        "\n",
        "*Similarly to previous question, we will consider salary expectations below 1 million rubles.*"
      ]
    },
    {
      "cell_type": "code",
      "execution_count": 246,
      "id": "973b0cfc-a972-470a-8b4a-68744ef220c4",
      "metadata": {},
      "outputs": [
        {
          "name": "stdout",
          "output_type": "stream",
          "text": [
            "Highest salary expectations are in the group of cities: other\n"
          ]
        },
        {
          "data": {
            "text/html": [
              "<div>\n",
              "<style scoped>\n",
              "    .dataframe tbody tr th:only-of-type {\n",
              "        vertical-align: middle;\n",
              "    }\n",
              "\n",
              "    .dataframe tbody tr th {\n",
              "        vertical-align: top;\n",
              "    }\n",
              "\n",
              "    .dataframe thead th {\n",
              "        text-align: right;\n",
              "    }\n",
              "</style>\n",
              "<table border=\"1\" class=\"dataframe\">\n",
              "  <thead>\n",
              "    <tr style=\"text-align: right;\">\n",
              "      <th></th>\n",
              "      <th>mean</th>\n",
              "      <th>std</th>\n",
              "    </tr>\n",
              "    <tr>\n",
              "      <th>City</th>\n",
              "      <th></th>\n",
              "      <th></th>\n",
              "    </tr>\n",
              "  </thead>\n",
              "  <tbody>\n",
              "    <tr>\n",
              "      <th>Moscow</th>\n",
              "      <td>109045.0</td>\n",
              "      <td>79808.0</td>\n",
              "    </tr>\n",
              "    <tr>\n",
              "      <th>Petersburg</th>\n",
              "      <td>72093.0</td>\n",
              "      <td>46265.0</td>\n",
              "    </tr>\n",
              "    <tr>\n",
              "      <th>megapolis</th>\n",
              "      <td>51421.0</td>\n",
              "      <td>34980.0</td>\n",
              "    </tr>\n",
              "    <tr>\n",
              "      <th>other</th>\n",
              "      <td>55266.0</td>\n",
              "      <td>202198.0</td>\n",
              "    </tr>\n",
              "  </tbody>\n",
              "</table>\n",
              "</div>"
            ],
            "text/plain": [
              "                mean       std\n",
              "City                          \n",
              "Moscow      109045.0   79808.0\n",
              "Petersburg   72093.0   46265.0\n",
              "megapolis    51421.0   34980.0\n",
              "other        55266.0  202198.0"
            ]
          },
          "metadata": {},
          "output_type": "display_data"
        }
      ],
      "source": [
        "# Filter salaries below 1 mln. rubles\n",
        "mask_below_million = data_merged['salary(rub)'] < 1e6\n",
        "\n",
        "# Box plot diagram\n",
        "fig = px.box(\n",
        "    data_frame=data_merged[mask_below_million], \n",
        "    x='salary(rub)',\n",
        "    y='City',\n",
        ")\n",
        "\n",
        "# Layout setup\n",
        "fig.update_layout(\n",
        "    title=dict(text='Fig.5 - Median salary expectations of users <br> by city', x=.5, y=0.01, xanchor='center'),\n",
        "    xaxis_title_text = 'Salaty expectations, rubles',\n",
        "    yaxis_title_text = 'City',\n",
        "    yaxis_categoryorder='array',\n",
        "    yaxis_categoryarray=('other', 'megapolis', 'Petersburg', 'Moscow'),\n",
        "    width=800, height=400,\n",
        "    margin=dict(l=100, r=60, t=80, b=70),\n",
        ")\n",
        "\n",
        "#fig.show()\n",
        "fig.write_image('../figures/fig_5.png')\n",
        "\n",
        "print(f\"Highest salary expectations are in the group of cities: {data_merged[below_million_mask]['City'].max()}\")\n",
        "display(round(data_merged.groupby(by='City')['salary(rub)'].agg(['mean','std'])))"
      ]
    },
    {
      "attachments": {},
      "cell_type": "markdown",
      "id": "b2761385",
      "metadata": {},
      "source": [
        "<center> <img src = \"../figures/fig_5.png\">"
      ]
    },
    {
      "cell_type": "markdown",
      "id": "2710ce73-2e81-4e38-b52f-833cd14ba47a",
      "metadata": {
        "tags": []
      },
      "source": [
        "**Results**\n",
        "\n",
        "On the fig.5 is shown job seekers' median salary expections below 1 mln. rubles by city. It is expected, salaries spread is in direct relationship with the distance from the capital. The salary distribution in the capital is much wider in comparisson to that in Saint Petersburg and that in other cities. Thus, the median expectations are 85,000; 60,000; and 40,000 rubles respectively.\n",
        "\n",
        "Notably, users living in megapolices have similar expectations with those living in other cities. Their mean is 51.4 +/-35 thousand rubles and 55.3 +/- 202.2 thousand rubbles respectively. \n",
        "\n",
        "Salary sets of all city groups contain outliers: on the left hand side there are the lowest expectations of 1 rubble; on the right hand side there are demands over 300k rubles."
      ]
    },
    {
      "cell_type": "markdown",
      "id": "3bfcfdaf-755d-4d2b-8ed8-326201dc07ab",
      "metadata": {},
      "source": [
        "**6. Let us study how salary expectations depend on readiness for relocation and on business trips.**"
      ]
    },
    {
      "cell_type": "code",
      "execution_count": 247,
      "id": "ad3f270f-2991-47eb-929b-e8f88a55b0d1",
      "metadata": {},
      "outputs": [
        {
          "name": "stdout",
          "output_type": "stream",
          "text": [
            "Median salary of users, who is ready for relocation and business trip:     65900.0 rubles\n"
          ]
        }
      ],
      "source": [
        "def get_aggregated_status(arg1, arg2):\n",
        "    \"\"\"\n",
        "    The get_aggregated_status function group user by wilingness for business trips and by relocation.\n",
        "    \"\"\"\n",
        "    if arg1 is True and arg2 is True:\n",
        "        return 'ready_for_relocation_and_business_trips'\n",
        "    elif arg1 is False and arg2 is True:\n",
        "        return 'ready_for_relocation' \n",
        "    elif arg1 is True and arg2 is False:\n",
        "        return 'ready_for_business_trips'\n",
        "    else:\n",
        "        return 'not_ready'\n",
        "       \n",
        "\n",
        "data_merged['Relocation_and_business_trip_status'] = data_merged[['Relocation','Business_trip']].apply(lambda x: get_aggregated_status(*x), axis=1)\n",
        "\n",
        "# Bar diagram\n",
        "fig = px.bar(\n",
        "    data_frame=data_merged.groupby(['Relocation_and_business_trip_status'], as_index=False)['salary(rub)'].median(), \n",
        "    x='Relocation_and_business_trip_status',\n",
        "    y='salary(rub)',\n",
        "    opacity=0.5,  \n",
        ")\n",
        "\n",
        "# Layout setup\n",
        "fig.update_layout(\n",
        "    title=dict(text='Fig.6 - Median salaries distribution below 1 million rubles <br> in relation to their readiness to relocation and business trips', x=.5, y=.01, xanchor='center'),\n",
        "    xaxis_title_text = 'Status',\n",
        "    xaxis_categoryorder='array',\n",
        "    xaxis_categoryarray=('ready_for_relocation_and_business_trips', 'ready_for_relocation', 'ready_for_business_trips', 'not_ready'),\n",
        "    yaxis_title_text = 'Salary, rubles',\n",
        "    showlegend=True,\n",
        "    width=800, height=450,\n",
        "    margin=dict(l=100, r=60, t=80, b=200),\n",
        ")\n",
        "\n",
        "fig.write_image('../figures/fig_6.png')\n",
        "#fig.show();\n",
        "\n",
        "\n",
        "# Median salary of users, who is ready for relocation and business trip\n",
        "print(f\"Median salary of users, who is ready for relocation and business trip: \\\n",
        "    {round(data_merged[data_merged['Relocation_and_business_trip_status']=='ready_for_relocation_and_business_trips']['salary(rub)'].median(), -2)} rubles\")"
      ]
    },
    {
      "attachments": {},
      "cell_type": "markdown",
      "id": "696f6bb9",
      "metadata": {},
      "source": [
        "<center> <img src = \"../figures/fig_6.png\">"
      ]
    },
    {
      "cell_type": "markdown",
      "id": "2c4f4f7d",
      "metadata": {},
      "source": [
        "**Results**\n",
        "\n",
        "The fig.6 shows median salary expectations of users by their willingness for relocation and business trips. As it might be seen from the grapg, the higher the user mobility, the lager the salary expectations. Thus, specialists with maximum mobility have the highest median salary of 65,900 rubles. Those users who doesnt want to relocate to another city and to travel demand about 40,000 rubles."
      ]
    },
    {
      "cell_type": "markdown",
      "id": "7b02bb86-0546-40fb-94a4-242f050a5c57",
      "metadata": {},
      "source": [
        "**7. Let us stady the relationship between median salary and user age**"
      ]
    },
    {
      "cell_type": "code",
      "execution_count": 248,
      "id": "5a0e32a4-e68a-4365-8a39-2fe24c542c36",
      "metadata": {},
      "outputs": [
        {
          "data": {
            "text/html": [
              "<div>\n",
              "<style scoped>\n",
              "    .dataframe tbody tr th:only-of-type {\n",
              "        vertical-align: middle;\n",
              "    }\n",
              "\n",
              "    .dataframe tbody tr th {\n",
              "        vertical-align: top;\n",
              "    }\n",
              "\n",
              "    .dataframe thead th {\n",
              "        text-align: right;\n",
              "    }\n",
              "</style>\n",
              "<table border=\"1\" class=\"dataframe\">\n",
              "  <thead>\n",
              "    <tr style=\"text-align: right;\">\n",
              "      <th></th>\n",
              "      <th>Education</th>\n",
              "      <th>salary(rub)</th>\n",
              "    </tr>\n",
              "  </thead>\n",
              "  <tbody>\n",
              "    <tr>\n",
              "      <th>0</th>\n",
              "      <td>higher</td>\n",
              "      <td>60000.0</td>\n",
              "    </tr>\n",
              "    <tr>\n",
              "      <th>1</th>\n",
              "      <td>higher_unfinished</td>\n",
              "      <td>50000.0</td>\n",
              "    </tr>\n",
              "    <tr>\n",
              "      <th>2</th>\n",
              "      <td>secondary</td>\n",
              "      <td>40000.0</td>\n",
              "    </tr>\n",
              "    <tr>\n",
              "      <th>3</th>\n",
              "      <td>secondary_professional</td>\n",
              "      <td>40000.0</td>\n",
              "    </tr>\n",
              "  </tbody>\n",
              "</table>\n",
              "</div>"
            ],
            "text/plain": [
              "                Education  salary(rub)\n",
              "0                  higher      60000.0\n",
              "1       higher_unfinished      50000.0\n",
              "2               secondary      40000.0\n",
              "3  secondary_professional      40000.0"
            ]
          },
          "execution_count": 248,
          "metadata": {},
          "output_type": "execute_result"
        }
      ],
      "source": [
        "# Data preparation\n",
        "df = data_merged.pivot_table(\n",
        "    values='salary(rub)', \n",
        "    index='Education', \n",
        "    columns='Age', \n",
        "    aggfunc='median')\n",
        "\n",
        "fig = px.imshow(df, text_auto=True)\n",
        "\n",
        "fig.update_layout(\n",
        "    title=dict(text='Fig.7 - Median salary expectations<br> in relation to age and education', x=.5, y=.01, xanchor='center'),\n",
        "    xaxis_title_text = 'Age',\n",
        "    yaxis_title_text = 'Education level',\n",
        "    width=800, height=400,\n",
        ")\n",
        "\n",
        "fig.write_image('../figures/fig_7.png')\n",
        "#fig.show();\n",
        "\n",
        "# Statistics\n",
        "data_merged.groupby('Education', as_index=False)['salary(rub)'].median()"
      ]
    },
    {
      "attachments": {},
      "cell_type": "markdown",
      "id": "857cbf5b",
      "metadata": {},
      "source": [
        "<center> <img src = \"../figures/fig_7.png\">"
      ]
    },
    {
      "cell_type": "markdown",
      "id": "7aade1c2-16a0-418c-8427-ad93927c7705",
      "metadata": {},
      "source": [
        "The heat map on the fig.7 represents salary expectations distribution by user age and education. It is expected, salary expectations will grow in direct relation to user age. We suppose that users from the age 18 years to 40 years will acquire more skills and, therefore, will increase its value on the market. Between years 40 and 55 years user salary expectations might stadily grow because of life-long education. But after some 55 years they might experience stadily decline because fewer users are tend change its positions and compete with yonger candidates.\n",
        "\n",
        "Let us evaluate salaries in each education levelel:\n",
        "\n",
        "* higher education: As it can be seen from the graph, the career grow of educated users is much faster and last longer unlike that in the rest groups. In general, salaries distribution in the group is aligned with the hypothesis with the plateau of 90,000 rubles at the age of 40 years. However, there are some outliers in the group: high salaries demands of 112,000 rubles are in the age group of 16 and 69 years. Users elder 77 years surprisingly expect high salary of 90,000 rubles. Although it is unlikely that candidates younger than 22 years graduated from the universities so these data instances must be checked manually.\n",
        "* unfinished higher education: users in the group have the salary distribution which is similar to that in previous group. Though users pretend on high salaries later - in the age of 43. The distribution is aligned with the hypothesis except those in the age of 58 years demanding 110,000 rubles.\n",
        "* shool: the salary distribution is not well aligned with the hypothesis. So it is likely depends on personal career development rather than age. Local peak is in the age of 56 years with 100,000 rubles.\n",
        "* shool professional: the peak is not well observed and the spread is smooth. Though there is an exception in the age of 67 asking some 120,000 rubles. In addition to that, there is a group of aged candidats over 85 years asking some 60,000 rubles - an outstanding value in contrast to the mean value of the set."
      ]
    },
    {
      "cell_type": "markdown",
      "id": "d0247088-9003-455b-a591-a44650f487c3",
      "metadata": {},
      "source": [
        "**8. Let us explore how salary expectations grow in relation to user age.**\n",
        "\n",
        "*In order to do so, we will recalculate user age in years. In order to find out anomalies, we will draw a line, representing equal age and experience.** "
      ]
    },
    {
      "cell_type": "code",
      "execution_count": 249,
      "id": "a4143e50-b900-4ec8-9ae9-fc3ec3347287",
      "metadata": {},
      "outputs": [],
      "source": [
        "# Scatter plot\n",
        "fig = px.scatter(\n",
        "    data_frame=data_merged, \n",
        "    x='Age',\n",
        "    y=data_merged['User_experience(months)'] / 12, #recalculation of the user experience in years\n",
        "    #trendline=\"ols\",   \n",
        ")\n",
        "\n",
        "fig.update_layout(\n",
        "    title=dict(text='Fig.8 - User experience distribution by age', x=.5, y=.01, xanchor='center'),\n",
        "    xaxis_title_text = 'Age, years',\n",
        "    yaxis_title_text = 'Experience, years',\n",
        "    width=950, height=450\n",
        ")\n",
        "\n",
        "# Age and experience matching boundary\n",
        "fig.add_trace(go.Scatter(\n",
        "    x = [0, 100],\n",
        "    y = [0, 100],\n",
        "    mode='lines',\n",
        "    line_color=\"red\",\n",
        "    name=\"Age and experience <br> matching boundary\",\n",
        "))\n",
        "\n",
        "fig.write_image('../figures/fig_8.png')\n",
        "#fig.show();"
      ]
    },
    {
      "attachments": {},
      "cell_type": "markdown",
      "id": "9bf47f6c",
      "metadata": {},
      "source": [
        "<center> <img src = \"../figures/fig_8.png\">"
      ]
    },
    {
      "cell_type": "markdown",
      "id": "6f9218ff-52c7-4742-b328-4db5d4da7262",
      "metadata": {},
      "source": [
        "**Results**\n",
        "\n",
        "The fig.8 represents user experience distribution by age. Notably that users experience is in direct relationship with the age. It can be said, the majority of users chose their domain between 18 and 40 years. Then people may stadily grow professionally within their work domain and change their jobs until the age of 60 years. It is expected, they lose interest to change jobs and keep work until retirement. Such behavior might occur because employers prefer younger candidates to elder ones because former have higher pace of work.\n",
        "\n",
        "There are some outliers in the set:\n",
        "* 7 observations with excessive age-to-experience ratio which standing above the red line should be elliminated because candidates experience cannot excess their age;\n",
        "* on the right corner in the bottom there is a 100 years user with 2.5 years experience;\n",
        "* there are some users with outstanding age-to-experience ratio which are located between the majority and the boundary of equal age and experience. Such ratio, for instance 20/15.33 years and so on sould not be considered because minimal working age is 16 yearsin accordance with the national law."
      ]
    },
    {
      "cell_type": "markdown",
      "id": "5e18cd4a",
      "metadata": {},
      "source": [
        "**9. How often users update their resumees**"
      ]
    },
    {
      "cell_type": "code",
      "execution_count": 250,
      "id": "6670ae9c",
      "metadata": {},
      "outputs": [],
      "source": [
        "# Change format to daytime\n",
        "data_merged['date'] = pd.to_datetime(data_merged['date'])\n",
        "\n",
        "# Filtering by 2019 year\n",
        "mask_2019 = data_merged['date'].dt.year==2019\n",
        "\n",
        "# Create new feature 'Update_resumee(month)'\n",
        "data_merged['Update_resumee(month)'] = data_merged[mask_2019]['date'].dt.month\n",
        "\n",
        "# Data\n",
        "df = data_merged[mask_2019].pivot_table( #\n",
        "    values='salary(rub)', \n",
        "    index='Education', \n",
        "    columns='Update_resumee(month)', \n",
        "    aggfunc='count'\n",
        ")\n",
        "\n",
        "fig = px.imshow(df, text_auto=True)\n",
        "\n",
        "fig.update_layout(\n",
        "    title=dict(text='Fig.9 - User distribution by month in 2019', x=.5, y=.01, xanchor='center'),\n",
        "    xaxis_title_text = 'Month of resumee update',\n",
        "    yaxis_title_text = 'Education',\n",
        "    width=800, height=400,\n",
        ")\n",
        "\n",
        "fig.write_image('../figures/fig_9.png')\n",
        "#fig.show();\n",
        "\n",
        "# Drop the feature 'Update_resumee(month)'\n",
        "data_merged.drop(['Update_resumee(month)'], axis=1, inplace=True)"
      ]
    },
    {
      "attachments": {},
      "cell_type": "markdown",
      "id": "98ca9590",
      "metadata": {},
      "source": [
        "<center> <img src = \"../figures/fig_9.png\">"
      ]
    },
    {
      "cell_type": "markdown",
      "id": "04966e40-3bc3-4dc8-9ba2-e80580ce3abc",
      "metadata": {},
      "source": [
        "**Results**\n",
        "\n",
        "The heat map on fig.9 shows number of resumee updates by month and by the level of education. Althoug, we should some assumptions: since have no information about the intensity of platform advertisement, we think it does not change within the given year. On second, we did not noticed any signifant events shaking the human capital market. So assume the market was stable within the period. Analyzing the diagram, one can notice:\n",
        "* the beginning of the second and third quarter are the most crowded periods. Thus, april is the month when the majority of candidates moves to the market. There are some 19,377 resumees on the market in the period. Probably, employees got their annual benefits and decided to change their job. Next peak of 6406 people occurs in july when people decided to extend their summer vacation. Similar tendencies are observed in groups of unfinished higher education and secondary special.\n",
        "* school graduates rarely go to the job market. It is likely they expect low salaries."
      ]
    },
    {
      "cell_type": "markdown",
      "id": "b6beb40a",
      "metadata": {},
      "source": [
        "**10. Let us study job titles structure.**"
      ]
    },
    {
      "cell_type": "code",
      "execution_count": 251,
      "id": "eb5e7b07",
      "metadata": {},
      "outputs": [
        {
          "name": "stdout",
          "output_type": "stream",
          "text": [
            "List of 11 most popular professions: ['Системный администратор', 'Инженер', 'Аналитик', 'Менеджер проектов', 'Руководитель проекта', 'Специалист технической поддержки', 'Руководитель проектов', 'Технический специалист', 'Программист', 'Менеджер проекта', 'Специалист по IT']\n",
            " \n",
            "The candidates number by profession: \n",
            "other                               35138\n",
            "Системный администратор              3099\n",
            "Инженер                               966\n",
            "Аналитик                              809\n",
            "Менеджер проектов                     745\n",
            "Руководитель проекта                  718\n",
            "Специалист технической поддержки      695\n",
            "Руководитель проектов                 669\n",
            "Технический специалист                498\n",
            "Программист                           475\n",
            "Менеджер проекта                      471\n",
            "Специалист по IT                      461\n",
            "Name: Profession, dtype: int64\n"
          ]
        }
      ],
      "source": [
        "# Filter 11 most popular professions\n",
        "popular_professions = data_merged['Ищет работу на должность:'].value_counts().nlargest(11).index\n",
        "print(f\"List of 11 most popular professions: {list(popular_professions)}\")\n",
        "\n",
        "# Creation of a new feature \"profession\"\n",
        "data_merged['Profession'] = data_merged['Ищет работу на должность:'].apply(lambda x: x if x in popular_professions else 'other')\n",
        "\n",
        "print(' ')\n",
        "print(f\"The candidates number by profession: \\n{data_merged['Profession'].value_counts()}\")\n",
        "\n",
        "# Let us join similar professions like: 'Руководитель проекта' и 'Руководитель проектов', 'Менеджер проекта' и 'Менеджер проектов' \n",
        "data_merged['Profession'] = data_merged['Profession'].apply(lambda x: 'Руководитель проектов' if x.find('Руководитель проекта')>=0 else x)\n",
        "\n",
        "data_merged['Profession'] = data_merged['Profession'].apply(lambda x: 'Менеджер проектов' if x.find('Менеджер проекта')>=0 else x)\n",
        "\n",
        "# Filter salaries below 500k rubles, users with higher education level and 2019 year\n",
        "mask_salary_education_year = (data_merged['salary(rub)'] < 5e5) & (data_merged['Education'] == 'higher') & (data_merged['date'].dt.year==2019)\n",
        "\n",
        "# box plot diagram:\n",
        "fig = px.box(\n",
        "    data_frame=data_merged[mask_salary_education_year].sort_values(by='salary(rub)'),\n",
        "    x='salary(rub)',\n",
        "    y='Profession',\n",
        ")\n",
        "\n",
        "# Layout setup\n",
        "fig.update_layout(\n",
        "    #template='simple_white',\n",
        "    title=dict(text='Fig.10 - Median salary distributin below 500,000 rubles <br> across 10 most popular professions in 2019', x=.5, y=0.01, xanchor='center'),\n",
        "    xaxis_title_text = 'Median salary, rubles',\n",
        "    yaxis_title_text = 'Profession',\n",
        "    width=800, height=400,\n",
        "    margin=dict(l=100, r=60, t=80, b=70),\n",
        ")\n",
        "\n",
        "fig.add_vrect(\n",
        "    x0=\"40000\", x1=\"70000\",\n",
        "    fillcolor=\"LightSalmon\", opacity=0.5,\n",
        "    layer=\"below\", line_width=0,\n",
        "),\n",
        "\n",
        "#fig.show();\n",
        "fig.write_image('../figures/fig_10.png')\n",
        "\n",
        "# Delete the feature 'Profession'\n",
        "data_merged.drop(['Profession'], axis=1, inplace=True)"
      ]
    },
    {
      "attachments": {},
      "cell_type": "markdown",
      "id": "8b9761f0",
      "metadata": {},
      "source": [
        "<center> <img src = \"../figures/fig_10.png\">"
      ]
    },
    {
      "cell_type": "markdown",
      "id": "f0c7f677",
      "metadata": {},
      "source": [
        "Box plot diagrams on the fig.10 represent salary expectations distribution of 10 popular professions in 2019. Analyzing the figure it can be admitted:\n",
        "* the majority of job seekers expect salaries between 40 and 70 thousand rubles;\n",
        "* as it was expected, managers seek maximal salaries because their role is more demanding in comparisson with the technical specialist;\n",
        "* maimal salary range is in group 'other' since it aggregates 35138 candidates or 78% of the population. For that reason the group obviously contains a lot of outliers. "
      ]
    },
    {
      "cell_type": "markdown",
      "id": "b1ef156a-efcb-49ce-bb23-90763e7f35b2",
      "metadata": {
        "tags": []
      },
      "source": [
        "# Data cleaning\n",
        "\n",
        "**1. Let us find and remove repeating lines**"
      ]
    },
    {
      "cell_type": "code",
      "execution_count": 252,
      "id": "54ab0e50-c0f1-47cc-a54b-bc5c8bc363f9",
      "metadata": {},
      "outputs": [
        {
          "name": "stdout",
          "output_type": "stream",
          "text": [
            "Inintal number of entries: 44744\n",
            "Number of repeating lines: 161\n",
            "Number of rows without duplicates: 44583\n"
          ]
        }
      ],
      "source": [
        "# data frame\n",
        "data = data_merged\n",
        "print(f'Inintal number of entries: {data.shape[0]}')\n",
        "\n",
        "dupl_columns = list(data.columns)\n",
        "mask_duplicated = data.duplicated(subset=dupl_columns)\n",
        "print(f'Number of repeating lines: {data[mask_duplicated].shape[0]}')\n",
        "\n",
        "# Delete repeating lines\n",
        "data_deduplicated = data_merged.drop_duplicates(subset=dupl_columns)\n",
        "print(f'Number of rows without duplicates: {data_deduplicated.shape[0]}')"
      ]
    },
    {
      "cell_type": "markdown",
      "id": "4dea20cb-a36b-474a-a0b9-e08e8e3857a5",
      "metadata": {},
      "source": [
        "**2. Let us estmate number of missing values.**"
      ]
    },
    {
      "cell_type": "code",
      "execution_count": 113,
      "id": "9c61b3c0-bb66-46c9-ae1e-81d3f5752b4a",
      "metadata": {},
      "outputs": [
        {
          "data": {
            "text/plain": [
              "User_experience(months)            168\n",
              "Последняя/нынешняя должность         2\n",
              "Последнее/нынешнее место работы      1\n",
              "dtype: int64"
            ]
          },
          "metadata": {},
          "output_type": "display_data"
        }
      ],
      "source": [
        "# Estimation of missing values\n",
        "cols_null_sum = data_deduplicated.isnull().sum()\n",
        "cols_with_null = cols_null_sum[cols_null_sum > 0].sort_values(ascending=False)\n",
        "display(cols_with_null)"
      ]
    },
    {
      "attachments": {},
      "cell_type": "markdown",
      "id": "9372d394",
      "metadata": {},
      "source": [
        "### prediction of missing values"
      ]
    },
    {
      "cell_type": "code",
      "execution_count": 273,
      "id": "48cb795a",
      "metadata": {},
      "outputs": [],
      "source": [
        "# from sklearn.preprocessing import OneHotEncoder\n",
        "\n",
        "# def encode_cat_features(columns_to_change, X_train, X_test, y_train):\n",
        "#   one_hot_encoder = OneHotEncoder()\n",
        "#   X_train_onehot = one_hot_encoder.fit_transform(X_train[columns_to_change]).toarray()\n",
        "#   X_test_onehot = one_hot_encoder.transform(X_test[columns_to_change]).toarray()\n",
        "\n",
        "#   columns = one_hot_encoder.get_feature_names_out(columns_to_change)\n",
        "  \n",
        "#   X_train_onehot_df = pd.DataFrame(X_train_onehot, columns=columns)\n",
        "#   X_test_onehot_df = pd.DataFrame(X_test_onehot, columns=columns)\n",
        "#   # Переустановим индексацию в таблицах, применив подряд сразу два метода: \n",
        "#   # reset_index() — для изменения индексов с рандомных на последовательные от 0 до n и \n",
        "#   # drop(['index'], axis = 1) — для удаления образовавшегося столбца 'index'.\n",
        "#   X_train = X_train.reset_index().drop(['index'], axis = 1)\n",
        "#   X_test = X_test.reset_index().drop(['index'], axis = 1)\n",
        "#   y_train = y_train.reset_index().drop(['index'], axis = 1)\n",
        "  \n",
        "#   # Объединяем таблицы и удаляем старые категориальные признаки:\n",
        "#   X_train_new = pd.concat([X_train, X_train_onehot_df], axis=1)\n",
        "#   X_test_new = pd.concat([X_test, X_test_onehot_df], axis=1)\n",
        "  \n",
        "#   X_train_new = X_train_new.drop(columns=columns_to_change)\n",
        "#   X_test_new = X_test_new.drop(columns=columns_to_change)\n",
        "\n",
        "#   return X_train_new, X_test_new"
      ]
    },
    {
      "cell_type": "code",
      "execution_count": 272,
      "id": "153a4075",
      "metadata": {},
      "outputs": [
        {
          "data": {
            "text/plain": [
              "['Ищет работу на должность:',\n",
              " 'Последнее/нынешнее место работы',\n",
              " 'Последняя/нынешняя должность',\n",
              " 'Авто',\n",
              " 'Education',\n",
              " 'Gender',\n",
              " 'City',\n",
              " 'Relocation_and_business_trip_status']"
            ]
          },
          "execution_count": 272,
          "metadata": {},
          "output_type": "execute_result"
        }
      ],
      "source": [
        "# # categorical columns\n",
        "# categorial_cols = data_deduplicated.select_dtypes(include=['object']).columns.to_list()\n",
        "\n",
        "# X_train_new, X_test_new = encode_cat_features(categorial_cols, X_train, X_test, y_train)"
      ]
    },
    {
      "cell_type": "code",
      "execution_count": null,
      "id": "a2eff7a9",
      "metadata": {},
      "outputs": [],
      "source": [
        "# data = data_deduplicated.copy()\n",
        " \n",
        "# test_data = data[data['User_experience(months)'].isnull()]\n",
        "# data.dropna(inplace=True)\n",
        " \n",
        "# y_train = data['User_experience(months)']\n",
        "# X_train = data.drop(['User_experience(months)','Последняя/нынешняя должность','Последнее/нынешнее место работы'], axis=1)\n",
        "# X_test = test_data.drop(['User_experience(months)','Последняя/нынешняя должность','Последнее/нынешнее место работы'], axis=1)\n",
        "\n",
        "# categorial_cols = data_deduplicated.select_dtypes(include=['object']).columns.to_list()\n",
        "\n",
        "# X_train_new, X_test_new = encode_cat_features(categorial_cols, X_train, X_test, y_train)"
      ]
    },
    {
      "cell_type": "markdown",
      "id": "eedceb80-c5ca-480e-b27a-278dfb8b4438",
      "metadata": {},
      "source": [
        "**3. Let us delete missed values within the features 'Последнее/нынешнее место работы', 'Последняя/нынешняя должность' and fill missing values with the median value of the column 'User_experience(months)'.**"
      ]
    },
    {
      "cell_type": "code",
      "execution_count": 114,
      "id": "69621713-0cc5-4f1b-a1d7-bb144fa6148c",
      "metadata": {},
      "outputs": [
        {
          "data": {
            "text/plain": [
              "Ищет работу на должность:          0.0\n",
              "Последнее/нынешнее место работы    0.0\n",
              "dtype: float64"
            ]
          },
          "metadata": {},
          "output_type": "display_data"
        },
        {
          "name": "stdout",
          "output_type": "stream",
          "text": [
            "Mean user experience after removing of missing values:     114\n"
          ]
        }
      ],
      "source": [
        "# Remove rows in features 'Последнее/нынешнее место работы' and 'Последняя/нынешняя должность'.\n",
        "data_deduplicated = data_deduplicated.dropna(subset=['Последнее/нынешнее место работы','Последняя/нынешняя должность'], how='any', axis=0)\n",
        "\n",
        "# The dictionnary to fill missing values\n",
        "values = {\n",
        "    'User_experience(months)': data_deduplicated['User_experience(months)'].median()\n",
        "}\n",
        "#Fill the missing values\n",
        "data_deduplicated = data_deduplicated.fillna(values)\n",
        "\n",
        "#Share of missing values\n",
        "display(data_deduplicated.isnull().mean().sort_values(ascending=False).head(2))\n",
        "\n",
        "# Result\n",
        "print(f\"Mean user experience after removing of missing values: \\\n",
        "    {round(data_deduplicated['User_experience(months)'].mean())}\")"
      ]
    },
    {
      "cell_type": "markdown",
      "id": "1be1e9c6-37cf-4a5f-bfeb-04cab799dc80",
      "metadata": {},
      "source": [
        "**4. Let us remove resumees where salary expectations are higher that 1 million or lower than 1 thousand rubles**"
      ]
    },
    {
      "cell_type": "code",
      "execution_count": 115,
      "id": "0036a355-9ccf-4564-8b01-73d8194297e7",
      "metadata": {},
      "outputs": [
        {
          "name": "stdout",
          "output_type": "stream",
          "text": [
            "Number of outliers: 89\n"
          ]
        }
      ],
      "source": [
        "# Filtering salaries lower than 1000 and higher than 1 million rubles\n",
        "mask_salary_filter = (data_deduplicated['salary(rub)'] > 1e6) | (data_deduplicated['salary(rub)'] < 1e3)\n",
        "\n",
        "# Outliers\n",
        "print(f\"Number of outliers: {data_deduplicated[mask_salary_filter].shape[0]}\")\n",
        "\n",
        "# Filter entries using \"mask_salary_filter\"\n",
        "data_deduplicated.drop(data_deduplicated[mask_salary_filter].index, axis=0, inplace=True)"
      ]
    },
    {
      "attachments": {},
      "cell_type": "markdown",
      "id": "ec3c8db7-fa21-4a41-a994-1af63742a642",
      "metadata": {},
      "source": [
        "**5. Remove entries where user experience exceed user age**"
      ]
    },
    {
      "cell_type": "code",
      "execution_count": 116,
      "id": "949132bc-d5b6-4611-8218-0b9a504d74f4",
      "metadata": {},
      "outputs": [
        {
          "name": "stdout",
          "output_type": "stream",
          "text": [
            "Outliers: 7\n"
          ]
        }
      ],
      "source": [
        "# Filtering entries where user experience exceed user age\n",
        "mask_experience_equal_to_age = (data_deduplicated['User_experience(months)'] / 12 > data_deduplicated['Age']) & (data_deduplicated['Age'] / 12 < data_deduplicated['User_experience(months)'])\n",
        "\n",
        "# Outliers that stands outside of the boundary\n",
        "print(f\"Outliers: {data_deduplicated[mask_experience_equal_to_age].shape[0]}\")\n",
        "\n",
        "# Filtering outliers by \"mask_experience_equal_to_age\"\n",
        "data_deduplicated.drop(data_deduplicated[mask_experience_equal_to_age].index, axis=0, inplace=True)"
      ]
    },
    {
      "attachments": {},
      "cell_type": "markdown",
      "id": "1041c17a-ca8f-4543-a0ca-32778914fb00",
      "metadata": {},
      "source": [
        "**6. Let us remove candidates whose age exceed the range $[-3\\cdot\\sigma; +4 \\cdot \\sigma]$.**"
      ]
    },
    {
      "cell_type": "code",
      "execution_count": 117,
      "id": "6a743d39-5204-48d3-8271-b9f88e68d40e",
      "metadata": {},
      "outputs": [
        {
          "name": "stdout",
          "output_type": "stream",
          "text": [
            "Dataset description: \n",
            "count    44485.000000\n",
            "mean        32.188333\n",
            "std          7.919127\n",
            "min         15.000000\n",
            "25%         27.000000\n",
            "50%         31.000000\n",
            "75%         36.000000\n",
            "max        100.000000\n",
            "Name: Age, dtype: float64\n",
            " \n",
            "Number of outliers using z-method: 81\n",
            "User age in the outliers group using z-method: \n",
            "count     81.000000\n",
            "mean      67.271605\n",
            "std        4.772348\n",
            "min       64.000000\n",
            "25%       65.000000\n",
            "50%       66.000000\n",
            "75%       68.000000\n",
            "max      100.000000\n",
            "Name: Age, dtype: float64\n"
          ]
        }
      ],
      "source": [
        "# remove candidates whose age exceed the range [-3*sigma; +4*sigma]\n",
        "#log_data = np.log(data_deduplicated['Age']) # log_scale\n",
        "log_data = data_deduplicated['Age'] #normal scale\n",
        "\n",
        "# Feature statistics\n",
        "print(f'Dataset description: \\n{log_data.describe()}')\n",
        "\n",
        "left = 3\n",
        "right = 4\n",
        "lower_bound = log_data.mean() - left * log_data.std()\n",
        "upper_bound = log_data.mean() + right * log_data.std()\n",
        "#print(lower_bound, upper_bound)\n",
        "\n",
        "# histogram\n",
        "fig = px.histogram(\n",
        "    data_frame=log_data, \n",
        "    x='Age',\n",
        "    nbins=50,\n",
        "    opacity=0.5,\n",
        "    marginal='box',   \n",
        ")\n",
        "\n",
        "# Layout setup\n",
        "fig.update_layout(\n",
        "    title=dict(text='Fig.11 - Users distribution (bins=50) by logarythm of their age', x=.5, y=.05, xanchor='center'),\n",
        "    xaxis_title_text = 'Log age', yaxis_title_text = 'Users in the age group',\n",
        "    xaxis_range = [10 ,75],   # normal scale\n",
        "    #xaxis_range =[2.8 ,4.5], # log_scale\n",
        "    #showlegend=False,\n",
        "    legend_title_text='Lines:',\n",
        "    width=800, height=400,\n",
        "    margin=dict(l=100, r=60, t=80, b=100),\n",
        ")\n",
        "\n",
        "# Mean\n",
        "fig.add_vline(\n",
        "    x=log_data.mean(), line_color=\"black\", name=\"Mean age\"\n",
        ")\n",
        "# Boundary [-3;+4]*sigma\n",
        "fig.add_vrect(\n",
        "    lower_bound, upper_bound,\n",
        "    fillcolor=\"LightSalmon\", opacity=0.5,\n",
        "    layer=\"below\", line_width=0,\n",
        "    name=\"z-method boundary\"\n",
        ")\n",
        "\n",
        "#fig.show()\n",
        "fig.write_image('../figures/fig_11.png')\n",
        "\n",
        "\n",
        "def outliers_z_score_mod(data, feature, left=3, right=3, log_scale=False):\n",
        "    \"\"\"\n",
        "    The outliers_z_score_mod function filters values from outliers using z-method. Input:\n",
        "    - DataFrame;\n",
        "    - feature where we are looking for outliers. \n",
        "    - arguments 'left' and 'right' - are sigma multipliers; both are equal to 3 by default;\n",
        "    - when the argument log_scale is True, it scales values to logarithmic.\n",
        "    \"\"\"\n",
        "    if log_scale:\n",
        "        x = np.log(data[feature])\n",
        "    else:\n",
        "        x = data[feature]\n",
        "    mu = x.mean()\n",
        "    sigma = x.std()\n",
        "    lower_bound = mu - left * sigma\n",
        "    upper_bound = mu + right * sigma\n",
        "    outliers = data[(x < lower_bound) | (x > upper_bound)]\n",
        "    cleaned = data[(x > lower_bound) & (x < upper_bound)]\n",
        "    return outliers, cleaned\n",
        "\n",
        "outliers, cleaned = outliers_z_score_mod(data_deduplicated, 'Age', left=3, right=4, log_scale=False)\n",
        "print(' ')\n",
        "print(f'Number of outliers using z-method: {outliers.shape[0]}')\n",
        "\n",
        "# User age in the outliers group\n",
        "print(f\"User age in the outliers group using z-method: \\n{outliers['Age'].describe()}\")\n",
        "\n",
        "# Delete outliers\n",
        "data_deduplicated.drop(outliers.index, axis='index', inplace=True)"
      ]
    },
    {
      "attachments": {},
      "cell_type": "markdown",
      "id": "daa5e799",
      "metadata": {},
      "source": [
        "<center> <img src = \"../figures/fig_11.png\">"
      ]
    },
    {
      "cell_type": "markdown",
      "id": "6a7892b4-4113-4746-adce-18aa2844f18e",
      "metadata": {},
      "source": [
        "The fig.11 shows user dustribution by lagarythm of their age. Analyzing the diagram one can notice:\n",
        "* shape of the distribution is close to the log-normal witk positive skew. The peak is around 33 years.\n",
        "* according to the z-method with [-3;+4]*sigma, the set contains 81 users. They are counted as outliers since their mean age of 67.2 +/- 4.8 years is outside of the given boundaries."
      ]
    },
    {
      "cell_type": "code",
      "execution_count": 118,
      "id": "eb854b7f",
      "metadata": {},
      "outputs": [
        {
          "name": "stdout",
          "output_type": "stream",
          "text": [
            "Original dataset's shape: (44744, 12). \n",
            "Cleaned dataset shape: (44404, 24)\n"
          ]
        },
        {
          "data": {
            "text/plain": [
              "Series([], dtype: int64)"
            ]
          },
          "metadata": {},
          "output_type": "display_data"
        },
        {
          "name": "stdout",
          "output_type": "stream",
          "text": [
            "<class 'pandas.core.frame.DataFrame'>\n",
            "Int64Index: 44404 entries, 0 to 44743\n",
            "Data columns (total 24 columns):\n",
            " #   Column                               Non-Null Count  Dtype         \n",
            "---  ------                               --------------  -----         \n",
            " 0   Ищет работу на должность:            44404 non-null  object        \n",
            " 1   Последнее/нынешнее место работы      44404 non-null  object        \n",
            " 2   Последняя/нынешняя должность         44404 non-null  object        \n",
            " 3   Авто                                 44404 non-null  object        \n",
            " 4   Education                            44404 non-null  object        \n",
            " 5   Gender                               44404 non-null  object        \n",
            " 6   Age                                  44404 non-null  int64         \n",
            " 7   User_experience(months)              44404 non-null  float64       \n",
            " 8   City                                 44404 non-null  object        \n",
            " 9   Relocation                           44404 non-null  bool          \n",
            " 10  Business_trip                        44404 non-null  bool          \n",
            " 11  full_time                            44404 non-null  bool          \n",
            " 12  part_time                            44404 non-null  bool          \n",
            " 13  project                              44404 non-null  bool          \n",
            " 14  volunteering                         44404 non-null  bool          \n",
            " 15  internship                           44404 non-null  bool          \n",
            " 16  full_time                            44404 non-null  bool          \n",
            " 17  flexible                             44404 non-null  bool          \n",
            " 18  remote                               44404 non-null  bool          \n",
            " 19  daily_shifts                         44404 non-null  bool          \n",
            " 20  long_shifts                          44404 non-null  bool          \n",
            " 21  date                                 44404 non-null  datetime64[ns]\n",
            " 22  salary(rub)                          44404 non-null  float64       \n",
            " 23  Relocation_and_business_trip_status  44404 non-null  object        \n",
            "dtypes: bool(12), datetime64[ns](1), float64(2), int64(1), object(8)\n",
            "memory usage: 4.9+ MB\n"
          ]
        },
        {
          "data": {
            "text/plain": [
              "None"
            ]
          },
          "metadata": {},
          "output_type": "display_data"
        }
      ],
      "source": [
        "print(f\"Original dataset's shape: (44744, 12). \\nCleaned dataset shape: {data_deduplicated.shape}\")\n",
        "\n",
        "# Missing values\n",
        "cols_null_total = data_deduplicated.isnull().sum()\n",
        "cols_with_null = cols_null_total[cols_null_total > 0].sort_values(ascending=False)\n",
        "display(cols_with_null)\n",
        "\n",
        "display(data_deduplicated.info())"
      ]
    },
    {
      "attachments": {},
      "cell_type": "markdown",
      "id": "88681eeb",
      "metadata": {},
      "source": [
        "## Data encoding"
      ]
    },
    {
      "attachments": {},
      "cell_type": "markdown",
      "id": "2a6a85e3",
      "metadata": {},
      "source": [
        "### Auto"
      ]
    },
    {
      "cell_type": "code",
      "execution_count": 119,
      "id": "0f855df0",
      "metadata": {},
      "outputs": [
        {
          "data": {
            "text/plain": [
              "0    32015\n",
              "1    12389\n",
              "Name: auto, dtype: int64"
            ]
          },
          "metadata": {},
          "output_type": "display_data"
        }
      ],
      "source": [
        "# analyze the feature unique values \n",
        "data_deduplicated['Авто'].value_counts()\n",
        "\n",
        "# Let us split users by possession of auto feature: set '1' who does have an auto and '0' for those who does not\n",
        "data_deduplicated['auto'] = data_deduplicated['Авто'].apply(lambda x: 1 if x.find('Имеется собственный автомобиль')>=0 else 0) #.astype(np.uint8)\n",
        "display(data_deduplicated['auto'].value_counts())\n",
        "\n",
        "# let us drop original feature\n",
        "data_deduplicated.drop(['Авто'], axis=1, inplace=True)"
      ]
    },
    {
      "attachments": {},
      "cell_type": "markdown",
      "id": "7cf84948",
      "metadata": {},
      "source": [
        "### Current/former position"
      ]
    },
    {
      "cell_type": "code",
      "execution_count": 120,
      "id": "2e0b1518",
      "metadata": {},
      "outputs": [
        {
          "data": {
            "text/plain": [
              "Системный администратор             2054\n",
              "Инженер                              874\n",
              "Инженер-программист                  668\n",
              "Программист                          456\n",
              "Руководитель проектов                367\n",
              "Специалист технической поддержки     352\n",
              "Менеджер по работе с клиентами       342\n",
              "Ведущий инженер                      327\n",
              "Менеджер проектов                    283\n",
              "Руководитель проекта                 281\n",
              "Сервисный инженер                    265\n",
              "Продавец-консультант                 257\n",
              "Ведущий специалист                   253\n",
              "Аналитик                             233\n",
              "Менеджер по продажам                 225\n",
              "Контент-менеджер                     207\n",
              "Инженер технической поддержки        207\n",
              "Главный специалист                   204\n",
              "Специалист                           195\n",
              "Программист-разработчик              189\n",
              "Name: Последняя/нынешняя должность, dtype: int64"
            ]
          },
          "execution_count": 120,
          "metadata": {},
          "output_type": "execute_result"
        }
      ],
      "source": [
        "# analyze the feature unique values \n",
        "data_deduplicated['Последняя/нынешняя должность'].value_counts().nlargest(20)"
      ]
    },
    {
      "attachments": {},
      "cell_type": "markdown",
      "id": "79adef36",
      "metadata": {},
      "source": [
        "Let us identify most frequent user positions and delete minor deviations in titles\n"
      ]
    },
    {
      "cell_type": "code",
      "execution_count": 121,
      "id": "ea2cce40",
      "metadata": {},
      "outputs": [
        {
          "data": {
            "text/plain": [
              "other                   9636\n",
              "leading specialist      6396\n",
              "engineer                5311\n",
              "programmer              4353\n",
              "manager                 3726\n",
              "sys admin               3573\n",
              "project manager         3456\n",
              "unit head               1910\n",
              "director                1597\n",
              "analyst                 1135\n",
              "leading engineer         980\n",
              "technicien               600\n",
              "sales manager            525\n",
              "salesman                 458\n",
              "designer                 448\n",
              "marketing specialist     300\n",
              "Name: position, dtype: int64"
            ]
          },
          "execution_count": 121,
          "metadata": {},
          "output_type": "execute_result"
        }
      ],
      "source": [
        "def get_profession(arg:str)->str:\n",
        "    \"\"\"Function for unifying of profession titles\n",
        "    \"\"\"\n",
        "    arg = arg.lower().replace(\"-\",\" \").replace(\"веб\",\"web\") #.split(\" \") \n",
        "    \n",
        "    #programmer = ['программист', 'frontend', 'web', 'разработчик']\n",
        "    \n",
        "    if 'программист' in arg or 'разработчик' in arg : #or arg==('frontend разработчик' or 'веб разработчик')\n",
        "        return \"programmer\"\n",
        "    \n",
        "    elif 'дизайнер' in arg:\n",
        "        return 'designer'\n",
        "    \n",
        "    elif 'aналитик' in arg or ('системный' and 'аналитик') in arg:\n",
        "        return 'analyst'\n",
        "    \n",
        "    elif ('главный' and 'специалист') in arg:\n",
        "        return 'leading specialist'\n",
        "    \n",
        "    elif 'продавец' in arg:\n",
        "        return 'salesman'\n",
        "    \n",
        "    elif ('системный' and 'администратор') in arg:\n",
        "        return 'sys admin'\n",
        "    \n",
        "    elif 'менеджер по продажам' in arg:\n",
        "        return 'sales manager'\n",
        "    \n",
        "    elif 'ведущий инженер' in arg:\n",
        "        return 'leading engineer'\n",
        "    \n",
        "    elif ('руководитель' or 'менеджер' and 'проекта' or 'проектов') in arg:\n",
        "        return 'project manager'\n",
        "    \n",
        "    elif ('начальник' or 'руководитель' or 'заведующий') in arg:\n",
        "        return 'unit head'\n",
        "    \n",
        "    elif ('менеджер' or ('заместитель' and 'руководителя'))in arg:\n",
        "        return 'manager'\n",
        "    \n",
        "    elif 'директор' in arg:\n",
        "        return 'director'\n",
        "    \n",
        "    elif 'инженер' in arg:\n",
        "        return 'engineer'\n",
        "    \n",
        "    elif 'маркетолог' in arg:\n",
        "        return 'marketing specialist'\n",
        "   \n",
        "    elif ('техник' or 'монтажник') in arg or arg=='монтажник':\n",
        "        return 'technicien'\n",
        "    \n",
        "    elif ('администратор' or 'administrator' or 'reception' or '') in arg:\n",
        "        return 'administrator'\n",
        "    \n",
        "    else:\n",
        "        return 'other' #arg \n",
        "    \n",
        "data_deduplicated['position'] = data_deduplicated['Последняя/нынешняя должность'].apply(get_profession)\n",
        "\n",
        "data_deduplicated['position'].value_counts().nlargest(20)"
      ]
    },
    {
      "cell_type": "code",
      "execution_count": 122,
      "id": "fd615810",
      "metadata": {},
      "outputs": [],
      "source": [
        "#delete original feature\n",
        "data_deduplicated.drop(['Последняя/нынешняя должность'], axis=1, inplace=True)"
      ]
    },
    {
      "attachments": {},
      "cell_type": "markdown",
      "id": "e7462f8a",
      "metadata": {},
      "source": [
        "### Последнее/нынешнее место работы\n",
        "\n",
        "The feature contains the last or current job title of candidates. Пока удалим этот категориальный признак"
      ]
    },
    {
      "cell_type": "code",
      "execution_count": 123,
      "id": "4c8ed178",
      "metadata": {},
      "outputs": [
        {
          "data": {
            "text/plain": [
              "Индивидуальное предпринимательство / частная практика / фриланс    927\n",
              "Ростелеком                                                         481\n",
              "Сбербанк                                                           403\n",
              "Мобильные ТелеСистемы (МТС)                                        203\n",
              "МАГНИТ, Розничная сеть                                             175\n",
              "МегаФон                                                            139\n",
              "ЭР-Телеком Холдинг, ЗАО                                            131\n",
              "Билайн                                                             128\n",
              "Почта России                                                       116\n",
              "X5 RETAIL GROUP                                                     94\n",
              "Name: Последнее/нынешнее место работы, dtype: int64"
            ]
          },
          "execution_count": 123,
          "metadata": {},
          "output_type": "execute_result"
        }
      ],
      "source": [
        "data_deduplicated['Последнее/нынешнее место работы'].value_counts().nlargest(10)"
      ]
    },
    {
      "cell_type": "code",
      "execution_count": 124,
      "id": "fa74ecd9",
      "metadata": {},
      "outputs": [
        {
          "data": {
            "text/html": [
              "<div>\n",
              "<style scoped>\n",
              "    .dataframe tbody tr th:only-of-type {\n",
              "        vertical-align: middle;\n",
              "    }\n",
              "\n",
              "    .dataframe tbody tr th {\n",
              "        vertical-align: top;\n",
              "    }\n",
              "\n",
              "    .dataframe thead th {\n",
              "        text-align: right;\n",
              "    }\n",
              "</style>\n",
              "<table border=\"1\" class=\"dataframe\">\n",
              "  <thead>\n",
              "    <tr style=\"text-align: right;\">\n",
              "      <th></th>\n",
              "      <th>Education</th>\n",
              "      <th>Gender</th>\n",
              "      <th>Age</th>\n",
              "      <th>User_experience(months)</th>\n",
              "      <th>City</th>\n",
              "      <th>Relocation</th>\n",
              "      <th>Business_trip</th>\n",
              "      <th>full_time</th>\n",
              "      <th>part_time</th>\n",
              "      <th>project</th>\n",
              "      <th>...</th>\n",
              "      <th>internship</th>\n",
              "      <th>full_time</th>\n",
              "      <th>flexible</th>\n",
              "      <th>remote</th>\n",
              "      <th>daily_shifts</th>\n",
              "      <th>long_shifts</th>\n",
              "      <th>salary(rub)</th>\n",
              "      <th>Relocation_and_business_trip_status</th>\n",
              "      <th>auto</th>\n",
              "      <th>position</th>\n",
              "    </tr>\n",
              "  </thead>\n",
              "  <tbody>\n",
              "    <tr>\n",
              "      <th>0</th>\n",
              "      <td>higher_unfinished</td>\n",
              "      <td>M</td>\n",
              "      <td>39</td>\n",
              "      <td>202.0</td>\n",
              "      <td>other</td>\n",
              "      <td>False</td>\n",
              "      <td>False</td>\n",
              "      <td>True</td>\n",
              "      <td>True</td>\n",
              "      <td>True</td>\n",
              "      <td>...</td>\n",
              "      <td>False</td>\n",
              "      <td>True</td>\n",
              "      <td>True</td>\n",
              "      <td>True</td>\n",
              "      <td>True</td>\n",
              "      <td>True</td>\n",
              "      <td>29000.0</td>\n",
              "      <td>not_ready</td>\n",
              "      <td>1</td>\n",
              "      <td>sys admin</td>\n",
              "    </tr>\n",
              "    <tr>\n",
              "      <th>1</th>\n",
              "      <td>higher</td>\n",
              "      <td>M</td>\n",
              "      <td>60</td>\n",
              "      <td>233.0</td>\n",
              "      <td>other</td>\n",
              "      <td>False</td>\n",
              "      <td>True</td>\n",
              "      <td>True</td>\n",
              "      <td>True</td>\n",
              "      <td>True</td>\n",
              "      <td>...</td>\n",
              "      <td>False</td>\n",
              "      <td>True</td>\n",
              "      <td>True</td>\n",
              "      <td>True</td>\n",
              "      <td>True</td>\n",
              "      <td>False</td>\n",
              "      <td>40000.0</td>\n",
              "      <td>ready_for_relocation</td>\n",
              "      <td>0</td>\n",
              "      <td>analyst</td>\n",
              "    </tr>\n",
              "    <tr>\n",
              "      <th>2</th>\n",
              "      <td>secondary_professional</td>\n",
              "      <td>F</td>\n",
              "      <td>36</td>\n",
              "      <td>123.0</td>\n",
              "      <td>other</td>\n",
              "      <td>False</td>\n",
              "      <td>False</td>\n",
              "      <td>True</td>\n",
              "      <td>False</td>\n",
              "      <td>False</td>\n",
              "      <td>...</td>\n",
              "      <td>False</td>\n",
              "      <td>True</td>\n",
              "      <td>False</td>\n",
              "      <td>False</td>\n",
              "      <td>False</td>\n",
              "      <td>False</td>\n",
              "      <td>20000.0</td>\n",
              "      <td>not_ready</td>\n",
              "      <td>0</td>\n",
              "      <td>other</td>\n",
              "    </tr>\n",
              "    <tr>\n",
              "      <th>3</th>\n",
              "      <td>higher</td>\n",
              "      <td>M</td>\n",
              "      <td>38</td>\n",
              "      <td>225.0</td>\n",
              "      <td>other</td>\n",
              "      <td>False</td>\n",
              "      <td>True</td>\n",
              "      <td>True</td>\n",
              "      <td>True</td>\n",
              "      <td>True</td>\n",
              "      <td>...</td>\n",
              "      <td>False</td>\n",
              "      <td>False</td>\n",
              "      <td>True</td>\n",
              "      <td>True</td>\n",
              "      <td>False</td>\n",
              "      <td>False</td>\n",
              "      <td>100000.0</td>\n",
              "      <td>ready_for_relocation</td>\n",
              "      <td>0</td>\n",
              "      <td>programmer</td>\n",
              "    </tr>\n",
              "    <tr>\n",
              "      <th>4</th>\n",
              "      <td>higher</td>\n",
              "      <td>F</td>\n",
              "      <td>26</td>\n",
              "      <td>67.0</td>\n",
              "      <td>Moscow</td>\n",
              "      <td>False</td>\n",
              "      <td>True</td>\n",
              "      <td>True</td>\n",
              "      <td>False</td>\n",
              "      <td>False</td>\n",
              "      <td>...</td>\n",
              "      <td>False</td>\n",
              "      <td>True</td>\n",
              "      <td>False</td>\n",
              "      <td>False</td>\n",
              "      <td>False</td>\n",
              "      <td>False</td>\n",
              "      <td>140000.0</td>\n",
              "      <td>ready_for_relocation</td>\n",
              "      <td>0</td>\n",
              "      <td>sales manager</td>\n",
              "    </tr>\n",
              "  </tbody>\n",
              "</table>\n",
              "<p>5 rows × 21 columns</p>\n",
              "</div>"
            ],
            "text/plain": [
              "                Education Gender  Age  User_experience(months)    City  \\\n",
              "0       higher_unfinished      M   39                    202.0   other   \n",
              "1                  higher      M   60                    233.0   other   \n",
              "2  secondary_professional      F   36                    123.0   other   \n",
              "3                  higher      M   38                    225.0   other   \n",
              "4                  higher      F   26                     67.0  Moscow   \n",
              "\n",
              "   Relocation  Business_trip  full_time  part_time  project  ...  internship  \\\n",
              "0       False          False       True       True     True  ...       False   \n",
              "1       False           True       True       True     True  ...       False   \n",
              "2       False          False       True      False    False  ...       False   \n",
              "3       False           True       True       True     True  ...       False   \n",
              "4       False           True       True      False    False  ...       False   \n",
              "\n",
              "   full_time  flexible  remote  daily_shifts  long_shifts  salary(rub)  \\\n",
              "0       True      True    True          True         True      29000.0   \n",
              "1       True      True    True          True        False      40000.0   \n",
              "2       True     False   False         False        False      20000.0   \n",
              "3      False      True    True         False        False     100000.0   \n",
              "4       True     False   False         False        False     140000.0   \n",
              "\n",
              "   Relocation_and_business_trip_status auto       position  \n",
              "0                            not_ready    1      sys admin  \n",
              "1                 ready_for_relocation    0        analyst  \n",
              "2                            not_ready    0          other  \n",
              "3                 ready_for_relocation    0     programmer  \n",
              "4                 ready_for_relocation    0  sales manager  \n",
              "\n",
              "[5 rows x 21 columns]"
            ]
          },
          "execution_count": 124,
          "metadata": {},
          "output_type": "execute_result"
        }
      ],
      "source": [
        "#delete original features without preprocessing\n",
        "data_deduplicated.drop(['Последнее/нынешнее место работы','Ищет работу на должность:','date'], axis=1, inplace=True)\n",
        "\n",
        "data_deduplicated.head()"
      ]
    },
    {
      "attachments": {},
      "cell_type": "markdown",
      "id": "297dfd8b",
      "metadata": {},
      "source": [
        "### encoding"
      ]
    },
    {
      "cell_type": "code",
      "execution_count": 125,
      "id": "cddd9dff",
      "metadata": {},
      "outputs": [
        {
          "name": "stdout",
          "output_type": "stream",
          "text": [
            "<class 'pandas.core.frame.DataFrame'>\n",
            "Int64Index: 44404 entries, 0 to 44743\n",
            "Data columns (total 62 columns):\n",
            " #   Column                                                                       Non-Null Count  Dtype  \n",
            "---  ------                                                                       --------------  -----  \n",
            " 0   Age                                                                          44404 non-null  int64  \n",
            " 1   User_experience(months)                                                      44404 non-null  float64\n",
            " 2   salary(rub)                                                                  44404 non-null  float64\n",
            " 3   auto                                                                         44404 non-null  int64  \n",
            " 4   Education_higher                                                             44404 non-null  uint8  \n",
            " 5   Education_higher_unfinished                                                  44404 non-null  uint8  \n",
            " 6   Education_secondary                                                          44404 non-null  uint8  \n",
            " 7   Education_secondary_professional                                             44404 non-null  uint8  \n",
            " 8   Gender_F                                                                     44404 non-null  uint8  \n",
            " 9   Gender_M                                                                     44404 non-null  uint8  \n",
            " 10  City_Moscow                                                                  44404 non-null  uint8  \n",
            " 11  City_Petersburg                                                              44404 non-null  uint8  \n",
            " 12  City_megapolis                                                               44404 non-null  uint8  \n",
            " 13  City_other                                                                   44404 non-null  uint8  \n",
            " 14  Relocation_and_business_trip_status_not_ready                                44404 non-null  uint8  \n",
            " 15  Relocation_and_business_trip_status_ready_for_business_trips                 44404 non-null  uint8  \n",
            " 16  Relocation_and_business_trip_status_ready_for_relocation                     44404 non-null  uint8  \n",
            " 17  Relocation_and_business_trip_status_ready_for_relocation_and_business_trips  44404 non-null  uint8  \n",
            " 18  position_analyst                                                             44404 non-null  uint8  \n",
            " 19  position_designer                                                            44404 non-null  uint8  \n",
            " 20  position_director                                                            44404 non-null  uint8  \n",
            " 21  position_engineer                                                            44404 non-null  uint8  \n",
            " 22  position_leading engineer                                                    44404 non-null  uint8  \n",
            " 23  position_leading specialist                                                  44404 non-null  uint8  \n",
            " 24  position_manager                                                             44404 non-null  uint8  \n",
            " 25  position_marketing specialist                                                44404 non-null  uint8  \n",
            " 26  position_other                                                               44404 non-null  uint8  \n",
            " 27  position_programmer                                                          44404 non-null  uint8  \n",
            " 28  position_project manager                                                     44404 non-null  uint8  \n",
            " 29  position_sales manager                                                       44404 non-null  uint8  \n",
            " 30  position_salesman                                                            44404 non-null  uint8  \n",
            " 31  position_sys admin                                                           44404 non-null  uint8  \n",
            " 32  position_technicien                                                          44404 non-null  uint8  \n",
            " 33  position_unit head                                                           44404 non-null  uint8  \n",
            " 34  Business_trip_False                                                          44404 non-null  uint8  \n",
            " 35  Business_trip_True                                                           44404 non-null  uint8  \n",
            " 36  full_time_False                                                              44404 non-null  uint8  \n",
            " 37  full_time_True                                                               44404 non-null  uint8  \n",
            " 38  full_time_False                                                              44404 non-null  uint8  \n",
            " 39  full_time_True                                                               44404 non-null  uint8  \n",
            " 40  part_time_False                                                              44404 non-null  uint8  \n",
            " 41  part_time_True                                                               44404 non-null  uint8  \n",
            " 42  project_False                                                                44404 non-null  uint8  \n",
            " 43  project_True                                                                 44404 non-null  uint8  \n",
            " 44  volunteering_False                                                           44404 non-null  uint8  \n",
            " 45  volunteering_True                                                            44404 non-null  uint8  \n",
            " 46  internship_False                                                             44404 non-null  uint8  \n",
            " 47  internship_True                                                              44404 non-null  uint8  \n",
            " 48  full_time_False                                                              44404 non-null  uint8  \n",
            " 49  full_time_True                                                               44404 non-null  uint8  \n",
            " 50  full_time_False                                                              44404 non-null  uint8  \n",
            " 51  full_time_True                                                               44404 non-null  uint8  \n",
            " 52  flexible_False                                                               44404 non-null  uint8  \n",
            " 53  flexible_True                                                                44404 non-null  uint8  \n",
            " 54  remote_False                                                                 44404 non-null  uint8  \n",
            " 55  remote_True                                                                  44404 non-null  uint8  \n",
            " 56  daily_shifts_False                                                           44404 non-null  uint8  \n",
            " 57  daily_shifts_True                                                            44404 non-null  uint8  \n",
            " 58  long_shifts_False                                                            44404 non-null  uint8  \n",
            " 59  long_shifts_True                                                             44404 non-null  uint8  \n",
            " 60  Relocation_False                                                             44404 non-null  uint8  \n",
            " 61  Relocation_True                                                              44404 non-null  uint8  \n",
            "dtypes: float64(2), int64(2), uint8(58)\n",
            "memory usage: 4.2 MB\n"
          ]
        }
      ],
      "source": [
        "data_encoded = pd.get_dummies(data_deduplicated, columns=['Education', 'Gender', 'City',  'Relocation_and_business_trip_status','position',\n",
        "'Business_trip', 'full_time', 'part_time', 'project', 'volunteering', 'internship', 'full_time', 'flexible', 'remote', 'daily_shifts', 'long_shifts', 'Relocation', \n",
        "])\n",
        "data_encoded.info()"
      ]
    },
    {
      "attachments": {},
      "cell_type": "markdown",
      "id": "4a8122b1",
      "metadata": {},
      "source": [
        "## Numerical features"
      ]
    },
    {
      "cell_type": "code",
      "execution_count": 126,
      "id": "6322ceea",
      "metadata": {},
      "outputs": [
        {
          "data": {
            "image/png": "[encoded data removed]",
            "text/plain": [
              "<Figure size 600x300 with 1 Axes>"
            ]
          },
          "metadata": {},
          "output_type": "display_data"
        }
      ],
      "source": [
        "fig = plt.figure(figsize=(6, 3))\n",
        "\n",
        "boxplot = sns.boxplot(data=data_encoded[['Age', 'User_experience(months)']], orient='h', width=0.5)\n",
        "boxplot.set_title('Fig.12 - Numerical fearture distribution', y=-0.4, fontsize=12)\n",
        "boxplot.set_xlabel('Distribution')\n",
        "boxplot.set_ylabel('Feature')\n",
        "boxplot.grid();"
      ]
    },
    {
      "attachments": {},
      "cell_type": "markdown",
      "id": "50307381",
      "metadata": {},
      "source": [
        "Let us normalize these features since each of them contains more than 15 unique values.\n",
        "\n",
        "The 'salary' feature has a large distribution. So it shoud be normalized. "
      ]
    },
    {
      "cell_type": "code",
      "execution_count": 127,
      "id": "4c85d694",
      "metadata": {},
      "outputs": [
        {
          "data": {
            "image/png": "[encoded data removed]",
            "text/plain": [
              "<Figure size 500x300 with 1 Axes>"
            ]
          },
          "metadata": {},
          "output_type": "display_data"
        }
      ],
      "source": [
        "# Visualization of the features distribution\n",
        "fig, (ax1) = plt.subplots(ncols=1, figsize=(5, 3))\n",
        "ax1.set_title('Fig.13 - Original data distribution', y=-0.4)\n",
        "\n",
        "sns.kdeplot(data_encoded['Age'], ax=ax1, label ='Age')\n",
        "sns.kdeplot(data_encoded['User_experience(months)'], ax=ax1, label ='User_experience(months)')\n",
        "ax1.legend(bbox_to_anchor=(1.05, 1), loc='upper left');\n",
        "#sns.kdeplot(data_encoded['salary(rub)'], ax=ax1, label ='salary(rub)')"
      ]
    },
    {
      "cell_type": "code",
      "execution_count": 128,
      "id": "e6e66f17",
      "metadata": {},
      "outputs": [
        {
          "data": {
            "image/png": "[encoded data removed]",
            "text/plain": [
              "<Figure size 500x300 with 1 Axes>"
            ]
          },
          "metadata": {},
          "output_type": "display_data"
        }
      ],
      "source": [
        "# Initiate the RobustScaler()\n",
        "r_scaler = preprocessing.RobustScaler()\n",
        "\n",
        "# copy original dataset\n",
        "df_r = r_scaler.fit_transform(data_encoded[['Age', 'User_experience(months)']]) #'salary(rub)'\n",
        "\n",
        "#Transform the features for visualization\n",
        "df_r = pd.DataFrame(df_r, columns=['Age_n', 'User_experience(months)_n']) #'salary(rub)'\n",
        "\n",
        "# Add transformed features to the Dataframe\n",
        "data_encoded = data_encoded.join(df_r, how='left') #on='mukey'\n",
        "\n",
        "# Delere original features without normalization\n",
        "data_encoded.drop(['Age', 'User_experience(months)'], axis=1, inplace=True)\n",
        "\n",
        "# Plot the features\n",
        "fig, (ax2) = plt.subplots(ncols=1, figsize=(5, 3))\n",
        "sns.kdeplot(df_r, ax=ax2)\n",
        "ax2.set_title('Fig.14 - Feature distribution after RobustScaler', y=-0.3)\n",
        "ax2.legend(df_r, title='Features', bbox_to_anchor=(1.05, 1), loc='upper left');"
      ]
    },
    {
      "cell_type": "code",
      "execution_count": 129,
      "id": "36c5d82b",
      "metadata": {},
      "outputs": [
        {
          "data": {
            "image/png": "[encoded data removed]",
            "text/plain": [
              "<Figure size 800x300 with 1 Axes>"
            ]
          },
          "metadata": {},
          "output_type": "display_data"
        }
      ],
      "source": [
        "fig = plt.figure(figsize=(8, 3))\n",
        "\n",
        "boxplot = sns.boxplot(data=data_encoded[['Age_n', 'User_experience(months)_n']], orient='h', width=0.5)\n",
        "boxplot.set_title('Fig.15 - Numerical fearture distribution', y=-0.4, fontsize=12)\n",
        "boxplot.set_xlabel('Distribution')\n",
        "boxplot.set_ylabel('Feature')\n",
        "boxplot.grid();"
      ]
    },
    {
      "attachments": {},
      "cell_type": "markdown",
      "id": "8705f743",
      "metadata": {},
      "source": [
        "### Check missed data"
      ]
    },
    {
      "cell_type": "code",
      "execution_count": 130,
      "id": "461f844d",
      "metadata": {},
      "outputs": [
        {
          "name": "stdout",
          "output_type": "stream",
          "text": [
            "Features with missed values, %: \n",
            "Age_n                        0.76\n",
            "User_experience(months)_n    0.76\n",
            "dtype: float64\n"
          ]
        }
      ],
      "source": [
        "# Percent of missed values by rows\n",
        "cols_null_percent = round(data_encoded.isnull().mean() * 100, 2)\n",
        "cols_with_null = cols_null_percent[cols_null_percent > 0].sort_values(ascending=False)\n",
        "print(f\"Features with missed values, %: \\n{cols_with_null}\")"
      ]
    },
    {
      "cell_type": "code",
      "execution_count": 139,
      "id": "3760e1d5",
      "metadata": {},
      "outputs": [
        {
          "data": {
            "text/plain": [
              "salary(rub)                    0.0\n",
              "auto                           0.0\n",
              "Education_higher               0.0\n",
              "Education_higher_unfinished    0.0\n",
              "Education_secondary            0.0\n",
              "dtype: float64"
            ]
          },
          "metadata": {},
          "output_type": "display_data"
        }
      ],
      "source": [
        "# Delete rows with missed data\n",
        "data_encoded = data_encoded.dropna(how='any', axis=0)\n",
        "\n",
        "#отображаем результирующую долю пропусков\n",
        "display(data_encoded.isnull().mean().head())\n",
        "\n",
        "# copy dataframe\n",
        "data_prepared = data_encoded.copy()"
      ]
    },
    {
      "cell_type": "code",
      "execution_count": 140,
      "id": "9f11ccc9",
      "metadata": {},
      "outputs": [
        {
          "data": {
            "text/html": [
              "<div>\n",
              "<style scoped>\n",
              "    .dataframe tbody tr th:only-of-type {\n",
              "        vertical-align: middle;\n",
              "    }\n",
              "\n",
              "    .dataframe tbody tr th {\n",
              "        vertical-align: top;\n",
              "    }\n",
              "\n",
              "    .dataframe thead th {\n",
              "        text-align: right;\n",
              "    }\n",
              "</style>\n",
              "<table border=\"1\" class=\"dataframe\">\n",
              "  <thead>\n",
              "    <tr style=\"text-align: right;\">\n",
              "      <th></th>\n",
              "      <th>salary(rub)</th>\n",
              "      <th>auto</th>\n",
              "      <th>Education_higher</th>\n",
              "      <th>Education_higher_unfinished</th>\n",
              "      <th>Education_secondary</th>\n",
              "      <th>Education_secondary_professional</th>\n",
              "      <th>Gender_F</th>\n",
              "      <th>Gender_M</th>\n",
              "      <th>City_Moscow</th>\n",
              "      <th>City_Petersburg</th>\n",
              "      <th>...</th>\n",
              "      <th>remote_False</th>\n",
              "      <th>remote_True</th>\n",
              "      <th>daily_shifts_False</th>\n",
              "      <th>daily_shifts_True</th>\n",
              "      <th>long_shifts_False</th>\n",
              "      <th>long_shifts_True</th>\n",
              "      <th>Relocation_False</th>\n",
              "      <th>Relocation_True</th>\n",
              "      <th>Age_n</th>\n",
              "      <th>User_experience(months)_n</th>\n",
              "    </tr>\n",
              "  </thead>\n",
              "  <tbody>\n",
              "    <tr>\n",
              "      <th>0</th>\n",
              "      <td>29000.0</td>\n",
              "      <td>1</td>\n",
              "      <td>0</td>\n",
              "      <td>1</td>\n",
              "      <td>0</td>\n",
              "      <td>0</td>\n",
              "      <td>0</td>\n",
              "      <td>1</td>\n",
              "      <td>0</td>\n",
              "      <td>0</td>\n",
              "      <td>...</td>\n",
              "      <td>0</td>\n",
              "      <td>1</td>\n",
              "      <td>0</td>\n",
              "      <td>1</td>\n",
              "      <td>0</td>\n",
              "      <td>1</td>\n",
              "      <td>1</td>\n",
              "      <td>0</td>\n",
              "      <td>0.888889</td>\n",
              "      <td>1.051546</td>\n",
              "    </tr>\n",
              "  </tbody>\n",
              "</table>\n",
              "<p>1 rows × 62 columns</p>\n",
              "</div>"
            ],
            "text/plain": [
              "   salary(rub)  auto  Education_higher  Education_higher_unfinished  \\\n",
              "0      29000.0     1                 0                            1   \n",
              "\n",
              "   Education_secondary  Education_secondary_professional  Gender_F  Gender_M  \\\n",
              "0                    0                                 0         0         1   \n",
              "\n",
              "   City_Moscow  City_Petersburg  ...  remote_False  remote_True  \\\n",
              "0            0                0  ...             0            1   \n",
              "\n",
              "   daily_shifts_False  daily_shifts_True  long_shifts_False  long_shifts_True  \\\n",
              "0                   0                  1                  0                 1   \n",
              "\n",
              "   Relocation_False  Relocation_True     Age_n  User_experience(months)_n  \n",
              "0                 1                0  0.888889                   1.051546  \n",
              "\n",
              "[1 rows x 62 columns]"
            ]
          },
          "execution_count": 140,
          "metadata": {},
          "output_type": "execute_result"
        }
      ],
      "source": [
        "data_prepared.head(1)"
      ]
    },
    {
      "attachments": {},
      "cell_type": "markdown",
      "id": "03566e71",
      "metadata": {},
      "source": [
        "## Models \n",
        "\n",
        "### Linear models and Ordinary least squares (OLS)"
      ]
    },
    {
      "cell_type": "code",
      "execution_count": 141,
      "id": "0ee00df8",
      "metadata": {},
      "outputs": [
        {
          "name": "stdout",
          "output_type": "stream",
          "text": [
            "X_Train: (35252, 61) y_train: (35252,)\n",
            " X_Test: (8814, 61),  y_test: (8814,)\n"
          ]
        }
      ],
      "source": [
        "# Create two matrixes: features and target\n",
        "X, y = data_prepared.drop('salary(rub)', axis=1, ), data_prepared['salary(rub)']\n",
        "\n",
        "# Split the data in a ratio 80/20\n",
        "X_train, X_test, y_train, y_test = train_test_split(X, y, test_size=0.2, random_state=RANDOM_SEED)\n",
        "\n",
        "# check the shape\n",
        "print(f'X_Train: {X_train.shape} y_train: {y_train.shape}')\n",
        "print(f' X_Test: {X_test.shape},  y_test: {y_test.shape}')"
      ]
    },
    {
      "cell_type": "code",
      "execution_count": 144,
      "id": "979bbb0c",
      "metadata": {},
      "outputs": [],
      "source": [
        "# Define metrics\n",
        "def print_metrics(y_train, y_train_predict, y_test, y_test_predict):\n",
        "    print('Train R^2: {:.3f}'.format(metrics.r2_score(y_train, y_train_predict)))\n",
        "    print('Train MAE: {:.0f} rub.'.format(metrics.mean_absolute_error(y_train, y_train_predict)))\n",
        "    print('Train MAPE: {:.0f} %'.format(metrics.mean_absolute_percentage_error(y_train, y_train_predict)*100))\n",
        "    print('\\n')\n",
        "    print('Test R^2: {:.3f}'.format(metrics.r2_score(y_test, y_test_predict)))\n",
        "    print('Test MAE: {:.0f} rub.'.format(metrics.mean_absolute_error(y_test, y_test_predict)))\n",
        "    print('Train MAPE: {:.0f} %'.format(metrics.mean_absolute_percentage_error(y_test, y_test_predict)*100))"
      ]
    },
    {
      "cell_type": "code",
      "execution_count": 145,
      "id": "7f2fe97b",
      "metadata": {},
      "outputs": [
        {
          "name": "stdout",
          "output_type": "stream",
          "text": [
            "Train R^2: 0.380\n",
            "Train MAE: 31539 rub.\n",
            "Train MAPE: 58 %\n",
            "\n",
            "\n",
            "Test R^2: 0.369\n",
            "Test MAE: 31962 rub.\n",
            "Train MAPE: 61 %\n"
          ]
        }
      ],
      "source": [
        "#Creation an instance of the LinearRegression class\n",
        "lr_model = linear_model.LinearRegression()\n",
        "\n",
        "# Train the Model\n",
        "lr_model.fit(X_train, y_train)\n",
        " \n",
        "# Prediction for train data\n",
        "y_train_predict = lr_model.predict(X_train)\n",
        "\n",
        "# Prediction for validation data\n",
        "y_test_predict = lr_model.predict(X_test)\n",
        "\n",
        "# Calculation of metrics for both samples\n",
        "print_metrics(y_train, y_train_predict, y_test, y_test_predict)"
      ]
    },
    {
      "cell_type": "code",
      "execution_count": 146,
      "id": "b0f6265d",
      "metadata": {},
      "outputs": [
        {
          "data": {
            "image/png": "[encoded data removed]",
            "text/plain": [
              "<Figure size 600x300 with 1 Axes>"
            ]
          },
          "metadata": {},
          "output_type": "display_data"
        }
      ],
      "source": [
        "A , B = y_train - y_train_predict, y_test - y_test_predict\n",
        "\n",
        "# Creation of a new DataFrame using train and test errors for visualization\n",
        "error_df = pd.DataFrame(\n",
        "    {'Train errors': A, \n",
        "     'Test errors': B\n",
        "    }\n",
        ")\n",
        "\n",
        "fig = plt.figure(figsize=(6, 3))\n",
        "\n",
        "fig = sns.boxplot(\n",
        "    data=error_df,\n",
        "    #y='client status',\n",
        "    #x='Balance',\n",
        "    orient='h',\n",
        "    width=0.5\n",
        ")\n",
        "fig.set_title('Fig.16 - Prediction errors distribution', y=-.3, fontsize=12)\n",
        "fig.set_xlabel('Distribution')\n",
        "fig.set_ylabel('Features')\n",
        "#fig.set(xscale=\"log\")\n",
        "fig.grid();"
      ]
    },
    {
      "attachments": {},
      "cell_type": "markdown",
      "id": "f8958e77",
      "metadata": {},
      "source": [
        "## Random forest"
      ]
    },
    {
      "cell_type": "code",
      "execution_count": 147,
      "id": "2eb07b16",
      "metadata": {},
      "outputs": [
        {
          "name": "stdout",
          "output_type": "stream",
          "text": [
            "Train R^2: 0.904\n",
            "Train MAE: 11873 rub.\n",
            "Train MAPE: 21 %\n",
            "\n",
            "\n",
            "Test R^2: 0.301\n",
            "Test MAE: 32422 rub.\n",
            "Train MAPE: 60 %\n"
          ]
        }
      ],
      "source": [
        "from sklearn.ensemble import RandomForestRegressor \n",
        "\n",
        "# Create the model\n",
        "model = RandomForestRegressor(n_estimators=150, verbose=0, n_jobs=-1,  random_state=RANDOM_SEED)\n",
        "\n",
        "# Learn the model\n",
        "model.fit(X_train, y_train)\n",
        "\n",
        "# Predict the data\n",
        "y_train_pred_rforest = model.predict(X_train)\n",
        "y_test_pred_rforest = model.predict(X_test)\n",
        "\n",
        "# Calculation of metrics for both samples\n",
        "print_metrics(y_train, y_train_pred_rforest, y_test, y_test_pred_rforest)"
      ]
    },
    {
      "attachments": {},
      "cell_type": "markdown",
      "id": "46a58b71",
      "metadata": {},
      "source": [
        "## 2th iteration: Polynominal regression"
      ]
    },
    {
      "cell_type": "code",
      "execution_count": 148,
      "id": "bf651fe1",
      "metadata": {},
      "outputs": [
        {
          "name": "stdout",
          "output_type": "stream",
          "text": [
            "(35252, 1952)\n",
            "(8814, 1952)\n"
          ]
        }
      ],
      "source": [
        "# Create a generator of polynominal features\n",
        "poly = preprocessing.PolynomialFeatures(degree=2, include_bias=False)\n",
        "poly.fit(X_train)\n",
        "# Generation of polynominal features for tain and test samples\n",
        "X_train_scaled_poly = poly.transform(X_train)\n",
        "X_test_scaled_poly = poly.transform(X_test)\n",
        "# Display shapes\n",
        "print(X_train_scaled_poly.shape)\n",
        "print(X_test_scaled_poly.shape)"
      ]
    },
    {
      "cell_type": "code",
      "execution_count": 149,
      "id": "493cf251",
      "metadata": {},
      "outputs": [
        {
          "name": "stdout",
          "output_type": "stream",
          "text": [
            "Train R^2: 0.434\n",
            "Train MAE: 29316 rub.\n",
            "Train MAPE: 52 %\n",
            "\n",
            "\n",
            "Test R^2: 0.410\n",
            "Test MAE: 30189 rub.\n",
            "Train MAPE: 56 %\n"
          ]
        }
      ],
      "source": [
        "# Creation of an isntance of the linear model class \n",
        "lr_model_poly = linear_model.LinearRegression()\n",
        "\n",
        "# Learn the model using OLS method\n",
        "lr_model_poly.fit(X_train_scaled_poly, y_train)\n",
        "\n",
        "# Prediction for both: train and test samples\n",
        "y_train_predict_poly = lr_model_poly.predict(X_train_scaled_poly)\n",
        "y_test_predict_poly = lr_model_poly.predict(X_test_scaled_poly)\n",
        "\n",
        "#Calculation of metrics\n",
        "print_metrics(y_train, y_train_predict_poly, y_test, y_test_predict_poly)"
      ]
    },
    {
      "cell_type": "code",
      "execution_count": 150,
      "id": "b9bc091c",
      "metadata": {},
      "outputs": [
        {
          "name": "stdout",
          "output_type": "stream",
          "text": [
            "[ 2.63994270e+15  3.54309034e+15 -5.63732132e+15 ...  1.96000000e+02\n",
            " -3.12000000e+02  5.44000000e+02]\n"
          ]
        }
      ],
      "source": [
        "print(np.round(lr_model_poly.coef_, 2))"
      ]
    },
    {
      "attachments": {},
      "cell_type": "markdown",
      "id": "7f81cdc0",
      "metadata": {},
      "source": [
        "High values of the model coefficients indicates that the model needs regularization."
      ]
    },
    {
      "attachments": {},
      "cell_type": "markdown",
      "id": "db3b4de8",
      "metadata": {},
      "source": [
        "### L1 Regularization\n",
        "\n",
        "Before we apply L1 regularization, we need to standardize our data."
      ]
    },
    {
      "cell_type": "code",
      "execution_count": 151,
      "id": "e8de98bf",
      "metadata": {},
      "outputs": [],
      "source": [
        "# Initialization of the MinMaxScaler lib\n",
        "scaler = preprocessing.MinMaxScaler()  #StandardScaler()\n",
        "# Train the model\n",
        "scaler.fit(X_train)\n",
        "# Transform each sample's features \n",
        "X_train_scaled = scaler.transform(X_train)\n",
        "X_test_scaled = scaler.transform(X_test)"
      ]
    },
    {
      "attachments": {},
      "cell_type": "markdown",
      "id": "a976336e",
      "metadata": {},
      "source": [
        "Create the model"
      ]
    },
    {
      "cell_type": "code",
      "execution_count": 152,
      "id": "ac86bd8b",
      "metadata": {},
      "outputs": [
        {
          "name": "stdout",
          "output_type": "stream",
          "text": [
            "(35252, 1952) (8814, 1952)\n"
          ]
        }
      ],
      "source": [
        "#Create a generator of polynominal features\n",
        "poly = preprocessing.PolynomialFeatures(degree=2, include_bias=False)\n",
        "poly.fit(X_train_scaled)\n",
        "# Generation of polynom. features for tain and test samples\n",
        "X_train_scaled_poly = poly.transform(X_train_scaled)\n",
        "X_test_scaled_poly = poly.transform(X_test_scaled)\n",
        "\n",
        "# Create a generator of polynominal features\n",
        "poly = preprocessing.PolynomialFeatures(degree=2, include_bias=False)\n",
        "poly.fit(X_train_scaled)\n",
        "# Generation of polynominal features for tain and test samples\n",
        "X_train_scaled_poly = poly.transform(X_train_scaled)\n",
        "X_test_scaled_poly = poly.transform(X_test_scaled)\n",
        "# Display shapes\n",
        "print(X_train_scaled_poly.shape, X_test_scaled_poly.shape)"
      ]
    },
    {
      "cell_type": "code",
      "execution_count": 153,
      "id": "db4ba12f",
      "metadata": {},
      "outputs": [
        {
          "name": "stdout",
          "output_type": "stream",
          "text": [
            "Train R^2: 0.435\n",
            "Train MAE: 29133 rub.\n",
            "Train MAPE: 51 %\n",
            "\n",
            "\n",
            "Test R^2: 0.410\n",
            "Test MAE: 30007 rub.\n",
            "Train MAPE: 55 %\n"
          ]
        },
        {
          "name": "stderr",
          "output_type": "stream",
          "text": [
            "C:\\Users\\Lena\\AppData\\Roaming\\Python\\Python310\\site-packages\\sklearn\\linear_model\\_coordinate_descent.py:631: ConvergenceWarning:\n",
            "\n",
            "Objective did not converge. You might want to increase the number of iterations, check the scale of the features or consider increasing regularisation. Duality gap: 2.149e+13, tolerance: 1.293e+10\n",
            "\n"
          ]
        }
      ],
      "source": [
        "# Creation of an isntance of the linear model class wtith the L1-regularization.\n",
        "lasso_lr_poly = linear_model.Lasso(alpha=0.1, max_iter=100) \n",
        "# Train the model\n",
        "lasso_lr_poly.fit(X_train_scaled_poly, y_train)\n",
        "# Prediction for train and test samples\n",
        "y_train_predict_poly = lasso_lr_poly.predict(X_train_scaled_poly)\n",
        "y_test_predict_poly = lasso_lr_poly.predict(X_test_scaled_poly)\n",
        "# Calculation of metrics\n",
        "print_metrics(y_train, y_train_predict_poly, y_test, y_test_predict_poly)"
      ]
    },
    {
      "cell_type": "code",
      "execution_count": 154,
      "id": "143d3175",
      "metadata": {},
      "outputs": [
        {
          "name": "stdout",
          "output_type": "stream",
          "text": [
            "[ 7244.19 29858.87 10957.76 ...  1187.11  -999.6  14720.13]\n"
          ]
        }
      ],
      "source": [
        "print(np.round(lasso_lr_poly.coef_, 2))"
      ]
    },
    {
      "attachments": {},
      "cell_type": "markdown",
      "id": "962a5536",
      "metadata": {},
      "source": [
        "The model does not converge engn though coefficients have become much lower. Let us apply L2 regularization method."
      ]
    },
    {
      "attachments": {},
      "cell_type": "markdown",
      "id": "bef56038",
      "metadata": {},
      "source": [
        "### L2-regularization"
      ]
    },
    {
      "cell_type": "code",
      "execution_count": 155,
      "id": "6a533495",
      "metadata": {},
      "outputs": [
        {
          "name": "stdout",
          "output_type": "stream",
          "text": [
            "Train R^2: 0.435\n",
            "Train MAE: 29116 rub.\n",
            "Train MAPE: 51 %\n",
            "\n",
            "\n",
            "Test R^2: 0.411\n",
            "Test MAE: 29950 rub.\n",
            "Train MAPE: 55 %\n"
          ]
        }
      ],
      "source": [
        "# Creation of an isntance of the linear model class wtith the L2-regularization.\n",
        "ridge_lr_poly = linear_model.Ridge(alpha=10)\n",
        "# Train the model\n",
        "ridge_lr_poly.fit(X_train_scaled_poly, y_train)\n",
        "# Make a prediction for train and test samples\n",
        "y_train_predict_poly = ridge_lr_poly.predict(X_train_scaled_poly)\n",
        "y_test_predict_poly = ridge_lr_poly.predict(X_test_scaled_poly)\n",
        "#Display the metrics\n",
        "print_metrics(y_train, y_train_predict_poly, y_test, y_test_predict_poly)"
      ]
    },
    {
      "cell_type": "code",
      "execution_count": 156,
      "id": "d526b6aa",
      "metadata": {},
      "outputs": [
        {
          "name": "stdout",
          "output_type": "stream",
          "text": [
            "[ 351.8   672.27 -357.62 ... 2852.15 2474.26 7966.99]\n"
          ]
        }
      ],
      "source": [
        "print(np.round(ridge_lr_poly.coef_, 2))"
      ]
    },
    {
      "attachments": {},
      "cell_type": "markdown",
      "id": "c8b8baac",
      "metadata": {},
      "source": [
        "Finally, we have got a better result which can be compared with that of the linear model:\n",
        "\n",
        "```\n",
        "Test R^2: 0.413\n",
        "Test MAE: 29772 rub.\n",
        "Train MAPE: 53 %\n",
        "```"
      ]
    },
    {
      "attachments": {},
      "cell_type": "markdown",
      "id": "0952e078",
      "metadata": {},
      "source": [
        "### Find the best coefficient value for L2-regularization"
      ]
    },
    {
      "cell_type": "code",
      "execution_count": 157,
      "id": "c1d81610",
      "metadata": {},
      "outputs": [
        {
          "name": "stdout",
          "output_type": "stream",
          "text": [
            "Train R^2: 0.370\n",
            "Train MAE: 28476 rub.\n",
            "Train MAPE: 44 %\n",
            "\n",
            "\n",
            "Test R^2: 0.357\n",
            "Test MAE: 28940 rub.\n",
            "Train MAPE: 47 %\n"
          ]
        }
      ],
      "source": [
        "# Get a logarythm of train data\n",
        "y_train_log = np.log(y_train)\n",
        "\n",
        "# Creation an instance of the LinearRegression class\n",
        "lr = linear_model.LinearRegression()\n",
        "# Train the Model\n",
        "lr.fit(X_train, y_train_log)\n",
        "#Prediction and get expanential data\n",
        "y_train_pred = np.exp(lr.predict(X_train))\n",
        "y_test_pred = np.exp(lr.predict(X_test))\n",
        "# Get metrics\n",
        "print_metrics(y_train, y_train_pred, y_test, y_test_pred)"
      ]
    },
    {
      "cell_type": "code",
      "execution_count": 158,
      "id": "8b9e701d",
      "metadata": {},
      "outputs": [
        {
          "data": {
            "image/png": "[encoded data removed]",
            "text/plain": [
              "<Figure size 800x300 with 1 Axes>"
            ]
          },
          "metadata": {},
          "output_type": "display_data"
        }
      ],
      "source": [
        "# Create 20 values of alpha between 10 and 500\n",
        "alpha_list = np.linspace(10, 500, 20)\n",
        "# Empty lists to store results\n",
        "train_scores = []\n",
        "test_scores = []\n",
        "for alpha in alpha_list:\n",
        "    # Creation of an isntance of the linear model class wtith the L2-regularization.\n",
        "    ridge_lr_poly = linear_model.Ridge(alpha=alpha, max_iter=100)\n",
        "    #Train the model\n",
        "    ridge_lr_poly.fit(X_train_scaled_poly, y_train_log)\n",
        "    #Get the prediction\n",
        "    y_train_predict_poly = np.exp(ridge_lr_poly.predict(X_train_scaled_poly))\n",
        "    y_test_predict_poly = np.exp(ridge_lr_poly.predict(X_test_scaled_poly))\n",
        "    # Metrics\n",
        "    train_scores.append(metrics.mean_absolute_error(y_train, y_train_predict_poly))\n",
        "    test_scores.append(metrics.mean_absolute_error(y_test, y_test_predict_poly))\n",
        "\n",
        "# Visualization of the prediction errors\n",
        "fig, ax = plt.subplots(figsize=(8, 3)) \n",
        "ax.plot(alpha_list, train_scores, label='Train')\n",
        "ax.plot(alpha_list, test_scores, label='Test')\n",
        "ax.set_xlabel('Alpha') # x axis label\n",
        "ax.set_ylabel('MAE') # y axis label\n",
        "ax.set_xticks(alpha_list) # axis ticks\n",
        "ax.xaxis.set_tick_params(rotation=45)  \n",
        "ax1.set_title('Fig.17 - Model learning errors', y=-0.2)\n",
        "ax.legend();"
      ]
    },
    {
      "attachments": {},
      "cell_type": "markdown",
      "id": "cdcd5d6a",
      "metadata": {},
      "source": [
        "Let us calculate the lowest point of the test curve."
      ]
    },
    {
      "cell_type": "code",
      "execution_count": 230,
      "id": "9bebefa6",
      "metadata": {},
      "outputs": [
        {
          "name": "stdout",
          "output_type": "stream",
          "text": [
            "\n",
            "Min index: 7\n",
            "Best alpha value is: 191.0\n"
          ]
        }
      ],
      "source": [
        "# return the index of the minimal value\n",
        "min_index = np.argmin(test_scores)\n",
        "print(f'\\nMin index: {min_index}')\n",
        "\n",
        "print(f'Best alpha value is: {alpha_list[min_index].round()}')"
      ]
    },
    {
      "attachments": {},
      "cell_type": "markdown",
      "id": "de5a1b1e",
      "metadata": {},
      "source": [
        "Best model has alpha ~ 190"
      ]
    },
    {
      "cell_type": "code",
      "execution_count": 227,
      "id": "924fcc6b",
      "metadata": {},
      "outputs": [
        {
          "name": "stdout",
          "output_type": "stream",
          "text": [
            "Train R^2: 0.400\n",
            "Train MAE: 27719 rub.\n",
            "Train MAPE: 42 %\n",
            "\n",
            "\n",
            "Test R^2: 0.383\n",
            "Test MAE: 28383 rub.\n",
            "Train MAPE: 45 %\n"
          ]
        }
      ],
      "source": [
        "# Creation of an isntance of the linear model class wtith the L2-regularization with the best alpha-coefficient\n",
        "ridge_lr = linear_model.Ridge(alpha=190)\n",
        "# Train the model to predict log target values\n",
        "ridge_lr.fit(X_train_scaled_poly, y_train_log)\n",
        "#Make a prediction for train and test samples and get expanential data\n",
        "y_train_pred = np.exp(ridge_lr.predict(X_train_scaled_poly))\n",
        "y_test_pred = np.exp(ridge_lr.predict(X_test_scaled_poly))\n",
        "# Calculate metrics\n",
        "print_metrics(y_train, y_train_pred, y_test, y_test_pred)"
      ]
    },
    {
      "cell_type": "code",
      "execution_count": 162,
      "id": "9970d48b",
      "metadata": {},
      "outputs": [
        {
          "name": "stdout",
          "output_type": "stream",
          "text": [
            "[ 0.    0.01 -0.   ...  0.02  0.01  0.01]\n"
          ]
        }
      ],
      "source": [
        "print(np.round(ridge_lr.coef_, 2))"
      ]
    },
    {
      "attachments": {},
      "cell_type": "markdown",
      "id": "9183f35e",
      "metadata": {},
      "source": [
        "# Conclusion\n",
        "\n",
        "It was created a model, predicting user's salary value by user data features."
      ]
    }
  ],
  "metadata": {
    "kernelspec": {
      "display_name": "Python 3.10.7 64-bit",
      "language": "python",
      "name": "python3"
    },
    "language_info": {
      "codemirror_mode": {
        "name": "ipython",
        "version": 3
      },
      "file_extension": ".py",
      "mimetype": "text/x-python",
      "name": "python",
      "nbconvert_exporter": "python",
      "pygments_lexer": "ipython3",
      "version": "3.10.7"
    },
    "nteract": {
      "version": "0.28.0"
    },
    "vscode": {
      "interpreter": {
        "hash": "26de051ba29f2982a8de78e945f0abaf191376122a1563185a90213a26c5da77"
      }
    }
  },
  "nbformat": 4,
  "nbformat_minor": 5
}
